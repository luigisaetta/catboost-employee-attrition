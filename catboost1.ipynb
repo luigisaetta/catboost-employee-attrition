{
 "cells": [
  {
   "cell_type": "markdown",
   "id": "9798c096",
   "metadata": {},
   "source": [
    "### Employee Attrition using **CatBoost**\n",
    "\n",
    "* L.S, ottobre 2021\n",
    "* gestione delle **feature categoriche**\n",
    "* importanza del **Learning rate**\n",
    "* gestione dataset imbalance tramite **class weights**\n",
    "* integrazione con **MLFLow**\n",
    "* salvataggio del modello nel **Model Catalog**"
   ]
  },
  {
   "cell_type": "code",
   "execution_count": 1,
   "id": "c805b5b4",
   "metadata": {
    "jupyter": {
     "source_hidden": true
    }
   },
   "outputs": [],
   "source": [
    "import pandas as pd\n",
    "import numpy as np\n",
    "\n",
    "# for reading data from Object Storage\n",
    "import ocifs\n",
    "from ads import set_auth\n",
    "\n",
    "# usero' catboost\n",
    "import catboost as cat\n",
    "\n",
    "# per la confusion matrix ed altre metriche uso sklearn\n",
    "from sklearn.metrics import confusion_matrix, ConfusionMatrixDisplay\n",
    "from sklearn.preprocessing import LabelEncoder\n",
    "from sklearn.metrics import roc_auc_score\n",
    "from sklearn.metrics import recall_score\n",
    "from sklearn.metrics import precision_score\n",
    "from sklearn.metrics import accuracy_score\n",
    "\n",
    "# grafici\n",
    "import matplotlib.pyplot as plt\n",
    "import seaborn as sns\n",
    "\n",
    "import mlflow"
   ]
  },
  {
   "cell_type": "code",
   "execution_count": 2,
   "id": "5f23d4fe",
   "metadata": {
    "jupyter": {
     "source_hidden": true
    }
   },
   "outputs": [],
   "source": [
    "# this way we enable access to Object Storage\n",
    "set_auth(auth='resource_principal')"
   ]
  },
  {
   "cell_type": "code",
   "execution_count": 3,
   "id": "acbad176",
   "metadata": {
    "jupyter": {
     "source_hidden": true
    }
   },
   "outputs": [],
   "source": [
    "# utility function and globals\n",
    "# GLOBALS\n",
    "FIGSIZE = (9, 6)\n",
    "\n",
    "SEED = 42\n",
    "\n",
    "# additional print\n",
    "DEBUG = 0\n",
    "\n",
    "#\n",
    "# easy plot of the confusion matrix\n",
    "#\n",
    "def plot_cm(model, x_test, y_test):\n",
    "    y_pred_labels = model.predict(x_test)\n",
    "    cm = confusion_matrix(y_test, y_pred_labels)\n",
    "    disp = ConfusionMatrixDisplay(confusion_matrix=cm)\n",
    "    disp.plot();\n",
    "\n",
    "    \n",
    "#\n",
    "# Compute metrics\n",
    "#\n",
    "def compute_auc(model, x_test, y_test):\n",
    "    y_pred = model.predict_proba(x_test)\n",
    "    y_pred = y_pred[:, 1]\n",
    "    auc = round(roc_auc_score(y_test, y_pred), 4)\n",
    "    \n",
    "    return auc\n",
    "\n",
    "def compute_prec_rec(model, x_test, y_test):\n",
    "    y_pred_labels = model.predict(x_test)\n",
    "    \n",
    "    rec = round(recall_score(y_test, y_pred_labels), 4)\n",
    "    prec = round(precision_score(y_test, y_pred_labels), 4)\n",
    "    \n",
    "    return prec, rec\n",
    "\n",
    "def compute_accuracy(model, x_test, y_test):\n",
    "    y_pred_labels = model.predict(x_test)\n",
    "    acc = accuracy_score(y_test, y_pred_labels)\n",
    "    \n",
    "    return round(acc, 3)\n",
    "\n",
    "def set_as_categorical(dataf, cat_columns):\n",
    "    for c in cat_columns:\n",
    "        if DEBUG:\n",
    "            print('Setting:', c)\n",
    "        dataf[c] = dataf[c].astype('category')\n",
    "            \n",
    "    return dataf\n",
    "\n",
    "#\n",
    "# my split in train, test set\n",
    "#\n",
    "def my_train_test_split(df, frac):\n",
    "    # frac: the fraction used for train\n",
    "    # df: the dataframe\n",
    "    \n",
    "    # shuffle before split\n",
    "    df = df.sample(frac=1., random_state=SEED)\n",
    "\n",
    "    # FRAC = 0.90\n",
    "    tot_rec = df.shape[0]\n",
    "    NUM_TRAIN = int(frac*tot_rec)\n",
    "    NUM_TEST = tot_rec - NUM_TRAIN\n",
    "\n",
    "    data_train = df[:NUM_TRAIN]\n",
    "    data_test = df[NUM_TRAIN:]\n",
    "\n",
    "    print()\n",
    "    print('Numero totale di campioni:', tot_rec)\n",
    "    print('Numero di campioni nel TRAIN SET:', data_train.shape[0])\n",
    "    print('Numero di campioni nel TEST SET:', data_test.shape[0])\n",
    "    \n",
    "    return data_train, data_test\n",
    "\n",
    "# read the csv from Object storage and return a pandas df\n",
    "def read_from_object_storage(prefix, file_name):\n",
    "    # get access to OSS as an fs\n",
    "    # config={} assume resource_principal auth\n",
    "    fs = ocifs.OCIFileSystem(config={})\n",
    "    \n",
    "    FILE_PATH = prefix + file_name\n",
    "    \n",
    "    # reading data from Object Storage\n",
    "    with fs.open(FILE_PATH, 'rb') as f:\n",
    "        df = pd.read_csv(f)\n",
    "    \n",
    "    return df"
   ]
  },
  {
   "cell_type": "code",
   "execution_count": 4,
   "id": "8ac25144",
   "metadata": {
    "jupyter": {
     "source_hidden": true
    }
   },
   "outputs": [
    {
     "name": "stdout",
     "output_type": "stream",
     "text": [
      "INFO: 'Catboost exp21' does not exist. Creating a new experiment\n"
     ]
    },
    {
     "data": {
      "text/plain": [
       "<ActiveRun: >"
      ]
     },
     "execution_count": 4,
     "metadata": {},
     "output_type": "execute_result"
    }
   ],
   "source": [
    "# integration with mlflow\n",
    "#set the tracking uri to log runs on a tracking server\n",
    "TRACKING_URI = \"http://150.230.146.100:5000/\"\n",
    "\n",
    "mlflow.set_tracking_uri(TRACKING_URI)\n",
    "\n",
    "#create an experiment to log runs into it.\n",
    "EXP_NAME = \"Catboost exp21\"\n",
    "\n",
    "mlflow.set_experiment(EXP_NAME)\n",
    "\n",
    "# start the first run\n",
    "mlflow.start_run()"
   ]
  },
  {
   "cell_type": "code",
   "execution_count": 5,
   "id": "772e5d0b",
   "metadata": {
    "jupyter": {
     "source_hidden": true
    }
   },
   "outputs": [
    {
     "data": {
      "text/html": [
       "<div>\n",
       "<style scoped>\n",
       "    .dataframe tbody tr th:only-of-type {\n",
       "        vertical-align: middle;\n",
       "    }\n",
       "\n",
       "    .dataframe tbody tr th {\n",
       "        vertical-align: top;\n",
       "    }\n",
       "\n",
       "    .dataframe thead th {\n",
       "        text-align: right;\n",
       "    }\n",
       "</style>\n",
       "<table border=\"1\" class=\"dataframe\">\n",
       "  <thead>\n",
       "    <tr style=\"text-align: right;\">\n",
       "      <th></th>\n",
       "      <th>Age</th>\n",
       "      <th>Attrition</th>\n",
       "      <th>EnvironmentSatisfaction</th>\n",
       "      <th>MaritalStatus</th>\n",
       "      <th>TravelForWork</th>\n",
       "      <th>SalaryLevel</th>\n",
       "      <th>JobFunction</th>\n",
       "      <th>CommuteLength</th>\n",
       "      <th>EducationalLevel</th>\n",
       "      <th>EducationField</th>\n",
       "      <th>MonthlyIncome</th>\n",
       "      <th>OverTime</th>\n",
       "      <th>StockOptionLevel</th>\n",
       "      <th>TrainingTimesLastYear</th>\n",
       "      <th>YearsSinceLastPromotion</th>\n",
       "      <th>WorkLifeBalance</th>\n",
       "    </tr>\n",
       "  </thead>\n",
       "  <tbody>\n",
       "    <tr>\n",
       "      <th>0</th>\n",
       "      <td>42</td>\n",
       "      <td>Yes</td>\n",
       "      <td>2</td>\n",
       "      <td>Single</td>\n",
       "      <td>infrequent</td>\n",
       "      <td>5054</td>\n",
       "      <td>Product Management</td>\n",
       "      <td>2</td>\n",
       "      <td>L2</td>\n",
       "      <td>Life Sciences</td>\n",
       "      <td>5993</td>\n",
       "      <td>Yes</td>\n",
       "      <td>0</td>\n",
       "      <td>0</td>\n",
       "      <td>0</td>\n",
       "      <td>1</td>\n",
       "    </tr>\n",
       "    <tr>\n",
       "      <th>1</th>\n",
       "      <td>50</td>\n",
       "      <td>No</td>\n",
       "      <td>3</td>\n",
       "      <td>Married</td>\n",
       "      <td>often</td>\n",
       "      <td>1278</td>\n",
       "      <td>Software Developer</td>\n",
       "      <td>9</td>\n",
       "      <td>L1</td>\n",
       "      <td>Life Sciences</td>\n",
       "      <td>5130</td>\n",
       "      <td>No</td>\n",
       "      <td>1</td>\n",
       "      <td>3</td>\n",
       "      <td>1</td>\n",
       "      <td>3</td>\n",
       "    </tr>\n",
       "    <tr>\n",
       "      <th>2</th>\n",
       "      <td>38</td>\n",
       "      <td>Yes</td>\n",
       "      <td>4</td>\n",
       "      <td>Single</td>\n",
       "      <td>infrequent</td>\n",
       "      <td>6296</td>\n",
       "      <td>Software Developer</td>\n",
       "      <td>3</td>\n",
       "      <td>L2</td>\n",
       "      <td>Other</td>\n",
       "      <td>2090</td>\n",
       "      <td>Yes</td>\n",
       "      <td>0</td>\n",
       "      <td>3</td>\n",
       "      <td>0</td>\n",
       "      <td>3</td>\n",
       "    </tr>\n",
       "    <tr>\n",
       "      <th>3</th>\n",
       "      <td>34</td>\n",
       "      <td>No</td>\n",
       "      <td>4</td>\n",
       "      <td>Married</td>\n",
       "      <td>often</td>\n",
       "      <td>6384</td>\n",
       "      <td>Software Developer</td>\n",
       "      <td>4</td>\n",
       "      <td>L4</td>\n",
       "      <td>Life Sciences</td>\n",
       "      <td>2909</td>\n",
       "      <td>Yes</td>\n",
       "      <td>0</td>\n",
       "      <td>3</td>\n",
       "      <td>3</td>\n",
       "      <td>3</td>\n",
       "    </tr>\n",
       "    <tr>\n",
       "      <th>4</th>\n",
       "      <td>28</td>\n",
       "      <td>No</td>\n",
       "      <td>1</td>\n",
       "      <td>Married</td>\n",
       "      <td>infrequent</td>\n",
       "      <td>2710</td>\n",
       "      <td>Software Developer</td>\n",
       "      <td>3</td>\n",
       "      <td>L1</td>\n",
       "      <td>Medical</td>\n",
       "      <td>3468</td>\n",
       "      <td>No</td>\n",
       "      <td>1</td>\n",
       "      <td>3</td>\n",
       "      <td>2</td>\n",
       "      <td>3</td>\n",
       "    </tr>\n",
       "  </tbody>\n",
       "</table>\n",
       "</div>"
      ],
      "text/plain": [
       "   Age Attrition  EnvironmentSatisfaction MaritalStatus TravelForWork  \\\n",
       "0   42       Yes                        2        Single    infrequent   \n",
       "1   50        No                        3       Married         often   \n",
       "2   38       Yes                        4        Single    infrequent   \n",
       "3   34        No                        4       Married         often   \n",
       "4   28        No                        1       Married    infrequent   \n",
       "\n",
       "   SalaryLevel         JobFunction  CommuteLength EducationalLevel  \\\n",
       "0         5054  Product Management              2               L2   \n",
       "1         1278  Software Developer              9               L1   \n",
       "2         6296  Software Developer              3               L2   \n",
       "3         6384  Software Developer              4               L4   \n",
       "4         2710  Software Developer              3               L1   \n",
       "\n",
       "  EducationField  MonthlyIncome OverTime  StockOptionLevel  \\\n",
       "0  Life Sciences           5993      Yes                 0   \n",
       "1  Life Sciences           5130       No                 1   \n",
       "2          Other           2090      Yes                 0   \n",
       "3  Life Sciences           2909      Yes                 0   \n",
       "4        Medical           3468       No                 1   \n",
       "\n",
       "   TrainingTimesLastYear  YearsSinceLastPromotion  WorkLifeBalance  \n",
       "0                      0                        0                1  \n",
       "1                      3                        1                3  \n",
       "2                      3                        0                3  \n",
       "3                      3                        3                3  \n",
       "4                      3                        2                3  "
      ]
     },
     "execution_count": 5,
     "metadata": {},
     "output_type": "execute_result"
    }
   ],
   "source": [
    "# input data from file in Object Storage\n",
    "PREFIX = \"oci://data_input@fr95jjtqbdhh/\"\n",
    "FILE_NAME = \"orcl_attrition.csv\"\n",
    "\n",
    "# see in functions above\n",
    "data_orig = read_from_object_storage(prefix=PREFIX, file_name=FILE_NAME)\n",
    "\n",
    "# some columns are not needed. This is the list of columns that will be used\n",
    "my_columns = ['Age', 'Attrition', 'EnvironmentSatisfaction', 'MaritalStatus', 'TravelForWork', 'SalaryLevel', 'JobFunction', 'CommuteLength', 'EducationalLevel', 'EducationField', 'MonthlyIncome', \n",
    "              'OverTime', 'StockOptionLevel', 'TrainingTimesLastYear', 'YearsSinceLastPromotion', 'WorkLifeBalance']\n",
    "\n",
    "# dataset filtrato eliminando le colonne non necessarie\n",
    "data = data_orig[my_columns]\n",
    "\n",
    "data.head()"
   ]
  },
  {
   "cell_type": "code",
   "execution_count": 6,
   "id": "ca76dbca",
   "metadata": {
    "jupyter": {
     "source_hidden": true
    }
   },
   "outputs": [
    {
     "data": {
      "image/png": "[encoded data removed]",
      "text/plain": [
       "<Figure size 648x432 with 1 Axes>"
      ]
     },
     "metadata": {
      "needs_background": "light"
     },
     "output_type": "display_data"
    }
   ],
   "source": [
    "# distribution of target\n",
    "plt.figure(figsize=FIGSIZE)\n",
    "plt.title('Distribution of target values')\n",
    "plt.grid(True)\n",
    "sns.histplot(data['Attrition']);"
   ]
  },
  {
   "cell_type": "code",
   "execution_count": 7,
   "id": "139f2697",
   "metadata": {
    "jupyter": {
     "source_hidden": true
    }
   },
   "outputs": [
    {
     "name": "stdout",
     "output_type": "stream",
     "text": [
      "Il rapporto negativi/positivi è: 5.2\n"
     ]
    }
   ],
   "source": [
    "# compute the ratio, for class weights\n",
    "condition = data['Attrition'] == 'Yes'\n",
    "\n",
    "n_pos = data.loc[condition].shape[0]\n",
    "n_neg = data.shape[0] - n_pos\n",
    "ratio = n_neg/n_pos\n",
    "\n",
    "print('Il rapporto negativi/positivi è:', round(ratio, 2))"
   ]
  },
  {
   "cell_type": "code",
   "execution_count": 8,
   "id": "f5822381",
   "metadata": {
    "jupyter": {
     "source_hidden": true
    }
   },
   "outputs": [
    {
     "name": "stdout",
     "output_type": "stream",
     "text": [
      "Colonna Target: Attrition\n",
      "\n",
      "Tutte le features: ['Age', 'CommuteLength', 'EducationField', 'EducationalLevel', 'EnvironmentSatisfaction', 'JobFunction', 'MaritalStatus', 'MonthlyIncome', 'OverTime', 'SalaryLevel', 'StockOptionLevel', 'TrainingTimesLastYear', 'TravelForWork', 'WorkLifeBalance', 'YearsSinceLastPromotion'] 15\n",
      "\n",
      "Colonne categorical: ['Age', 'CommuteLength', 'EducationField', 'EducationalLevel', 'EnvironmentSatisfaction', 'JobFunction', 'MaritalStatus', 'OverTime', 'StockOptionLevel', 'TrainingTimesLastYear', 'TravelForWork', 'WorkLifeBalance', 'YearsSinceLastPromotion'] 13\n",
      "\n",
      "Colonne numeriche: ['MonthlyIncome', 'SalaryLevel'] 2\n",
      "\n",
      "Numero totale di campioni: 1470\n",
      "Numero di campioni nel TRAIN SET: 1323\n",
      "Numero di campioni nel TEST SET: 147\n"
     ]
    }
   ],
   "source": [
    "# tipologie di features e colonne\n",
    "TARGET = 'Attrition'\n",
    "\n",
    "# automatizziamo !!!\n",
    "all_columns = sorted(data.columns)\n",
    "features = sorted(list(set(all_columns) - set([TARGET])))\n",
    "\n",
    "# per decidere, guarda statistiche dal Notebook 1\n",
    "cat_columns = sorted(['Age', 'CommuteLength','EnvironmentSatisfaction','MaritalStatus', 'TravelForWork', 'JobFunction', \n",
    "                      'EducationalLevel', 'EducationField', 'OverTime', \n",
    "                      'StockOptionLevel', 'TrainingTimesLastYear',\n",
    "                      'YearsSinceLastPromotion', 'WorkLifeBalance'])\n",
    "\n",
    "\n",
    "\n",
    "# colonne numeriche, continue (tutte le altre)\n",
    "num_columns = sorted(list(set(all_columns) - set(cat_columns) - set([TARGET])))\n",
    "\n",
    "print('Colonna Target:', TARGET)\n",
    "print()\n",
    "print('Tutte le features:', features, len(features))\n",
    "print()\n",
    "print('Colonne categorical:', cat_columns, len(cat_columns))\n",
    "print()\n",
    "print('Colonne numeriche:', num_columns, len(num_columns))\n",
    "\n",
    "\n",
    "# split TRAIN, TEST\n",
    "# shuffle prima dello split TRAIN, TEST\n",
    "FRAC = 0.90\n",
    "\n",
    "data_train, data_test = my_train_test_split(data, frac=FRAC)"
   ]
  },
  {
   "cell_type": "code",
   "execution_count": 9,
   "id": "040b7594",
   "metadata": {
    "jupyter": {
     "source_hidden": true
    }
   },
   "outputs": [],
   "source": [
    "# separo X ed y\n",
    "x_train = data_train[features]\n",
    "y_train = data_train[TARGET]\n",
    "\n",
    "x_test = data_test[features]\n",
    "y_test = data_test[TARGET]\n",
    "\n",
    "# encode labels as 0, 1\n",
    "le = LabelEncoder()\n",
    "\n",
    "# fit the encoder\n",
    "le.fit(y_train.values)\n",
    "\n",
    "# encode train and test\n",
    "y_train = le.transform(y_train.values)\n",
    "y_test = le.transform(y_test.values)\n",
    "\n",
    "# cat boost want indexes\n",
    "cat_columns_idxs = [i for i, col in enumerate(x_train.columns) if col in cat_columns]"
   ]
  },
  {
   "cell_type": "markdown",
   "id": "be01c118",
   "metadata": {},
   "source": [
    "### First run, without class weights"
   ]
  },
  {
   "cell_type": "code",
   "execution_count": 10,
   "id": "8d64f968",
   "metadata": {
    "jupyter": {
     "source_hidden": true
    }
   },
   "outputs": [
    {
     "name": "stdout",
     "output_type": "stream",
     "text": [
      "CPU times: user 2min 38s, sys: 33.7 s, total: 3min 12s\n",
      "Wall time: 11.2 s\n"
     ]
    },
    {
     "data": {
      "text/plain": [
       "<catboost.core.CatBoostClassifier at 0x7f00e1d3e890>"
      ]
     },
     "execution_count": 10,
     "metadata": {},
     "output_type": "execute_result"
    }
   ],
   "source": [
    "%%time\n",
    "# First: try without addressing data imbalance\n",
    "\n",
    "params = {'iterations':900,\n",
    "          'learning_rate':0.005,\n",
    "          'depth':10\n",
    "         }\n",
    "\n",
    "model = cat.CatBoostClassifier()\n",
    "model.set_params(**params)\n",
    "\n",
    "# added for mlflow tracking \n",
    "mlflow.log_params(params)\n",
    "\n",
    "model.fit(x_train, y_train, cat_columns_idxs, verbose=False, early_stopping_rounds=30)"
   ]
  },
  {
   "cell_type": "code",
   "execution_count": 11,
   "id": "aaffabd5",
   "metadata": {
    "jupyter": {
     "source_hidden": true
    }
   },
   "outputs": [
    {
     "name": "stdout",
     "output_type": "stream",
     "text": [
      "AUC computed on the test set is: 0.8207\n",
      "precision and recall computed on the test set are: prec: 0.7143 rec: 0.1852\n",
      "Accuracy on test set is: 0.837\n"
     ]
    }
   ],
   "source": [
    "# compute and register results\n",
    "auc = compute_auc(model, x_test, y_test)\n",
    "\n",
    "print('AUC computed on the test set is:', auc)\n",
    "\n",
    "prec, rec = compute_prec_rec(model, x_test, y_test)\n",
    "\n",
    "print('precision and recall computed on the test set are:', 'prec:', prec, 'rec:', rec)\n",
    "\n",
    "acc = compute_accuracy(model, x_test, y_test)\n",
    "\n",
    "print('Accuracy on test set is:', acc)\n",
    "\n",
    "# register metrics on mlflow and close run\n",
    "test_metrics = {}\n",
    "\n",
    "test_metrics['precision'] = prec\n",
    "test_metrics['recall'] = rec\n",
    "test_metrics['auc'] = auc\n",
    "test_metrics['acc'] = acc\n",
    "\n",
    "mlflow.log_metrics(test_metrics)\n",
    "\n",
    "# end run on MLFlow\n",
    "mlflow.end_run()"
   ]
  },
  {
   "cell_type": "markdown",
   "id": "d07dbbf9",
   "metadata": {},
   "source": [
    "### Second run, with class weights"
   ]
  },
  {
   "cell_type": "code",
   "execution_count": 12,
   "id": "66948c84",
   "metadata": {
    "jupyter": {
     "source_hidden": true
    }
   },
   "outputs": [
    {
     "name": "stdout",
     "output_type": "stream",
     "text": [
      "CPU times: user 2min 44s, sys: 34.9 s, total: 3min 19s\n",
      "Wall time: 11.5 s\n"
     ]
    },
    {
     "data": {
      "text/plain": [
       "<catboost.core.CatBoostClassifier at 0x7f00e1c80250>"
      ]
     },
     "execution_count": 12,
     "metadata": {},
     "output_type": "execute_result"
    }
   ],
   "source": [
    "%%time\n",
    "\n",
    "# start second run\n",
    "mlflow.start_run()\n",
    "\n",
    "# to address data imbalance\n",
    "class_weights = dict({0:1, 1:5.5})\n",
    "\n",
    "params = {'iterations':900,\n",
    "          'learning_rate':0.005,\n",
    "          'depth':10,\n",
    "          'class_weights':class_weights\n",
    "         }\n",
    "\n",
    "model = cat.CatBoostClassifier()\n",
    "model.set_params(**params)\n",
    "\n",
    "# added for mlflow tracking \n",
    "mlflow.log_params(params)\n",
    "\n",
    "model.fit(x_train, y_train, cat_columns_idxs, verbose=False, early_stopping_rounds=30)"
   ]
  },
  {
   "cell_type": "code",
   "execution_count": 13,
   "id": "a641d7af",
   "metadata": {
    "jupyter": {
     "source_hidden": true
    }
   },
   "outputs": [
    {
     "name": "stdout",
     "output_type": "stream",
     "text": [
      "AUC computed on the test set is: 0.8022\n",
      "precision and recall computed on the test set are: prec: 0.4839 rec: 0.5556\n",
      "Accuracy on test set is: 0.81\n"
     ]
    }
   ],
   "source": [
    "# compute and register results\n",
    "auc = compute_auc(model, x_test, y_test)\n",
    "\n",
    "print('AUC computed on the test set is:', auc)\n",
    "\n",
    "prec, rec = compute_prec_rec(model, x_test, y_test)\n",
    "\n",
    "print('precision and recall computed on the test set are:', 'prec:', prec, 'rec:', rec)\n",
    "\n",
    "acc = compute_accuracy(model, x_test, y_test)\n",
    "\n",
    "print('Accuracy on test set is:', acc)\n",
    "\n",
    "# register metrics on mlflow and close run\n",
    "test_metrics = {}\n",
    "\n",
    "test_metrics['precision'] = prec\n",
    "test_metrics['recall'] = rec\n",
    "test_metrics['auc'] = auc\n",
    "test_metrics['acc'] = acc\n",
    "\n",
    "mlflow.log_metrics(test_metrics)\n",
    "\n",
    "# end run on MLFlow\n",
    "mlflow.end_run()"
   ]
  },
  {
   "cell_type": "markdown",
   "id": "25987854",
   "metadata": {},
   "source": [
    "### Evaluate confusion matrix on test set"
   ]
  },
  {
   "cell_type": "code",
   "execution_count": 14,
   "id": "8164df75",
   "metadata": {
    "jupyter": {
     "source_hidden": true
    }
   },
   "outputs": [
    {
     "data": {
      "image/png": "[encoded data removed]",
      "text/plain": [
       "<Figure size 432x288 with 2 Axes>"
      ]
     },
     "metadata": {
      "needs_background": "light"
     },
     "output_type": "display_data"
    }
   ],
   "source": [
    "plot_cm(model, x_test, y_test)"
   ]
  },
  {
   "cell_type": "code",
   "execution_count": 15,
   "id": "6146bc83",
   "metadata": {
    "jupyter": {
     "source_hidden": true
    }
   },
   "outputs": [
    {
     "data": {
      "image/png": "[encoded data removed]",
      "text/plain": [
       "<Figure size 432x288 with 2 Axes>"
      ]
     },
     "metadata": {
      "needs_background": "light"
     },
     "output_type": "display_data"
    }
   ],
   "source": [
    "# c'è un certo overfitting...\n",
    "plot_cm(model, x_train, y_train)"
   ]
  },
  {
   "cell_type": "markdown",
   "id": "79781403",
   "metadata": {},
   "source": [
    "### Global explaination using feature importance"
   ]
  },
  {
   "cell_type": "code",
   "execution_count": 16,
   "id": "05256c6d",
   "metadata": {
    "jupyter": {
     "source_hidden": true
    }
   },
   "outputs": [
    {
     "data": {
      "image/png": "[encoded data removed]",
      "text/plain": [
       "<Figure size 648x432 with 1 Axes>"
      ]
     },
     "metadata": {
      "needs_background": "light"
     },
     "output_type": "display_data"
    }
   ],
   "source": [
    "# eXplainability: Feature importance\n",
    "\n",
    "plt.figure(figsize = FIGSIZE)\n",
    "plt.grid(True)\n",
    "sns.barplot(x = model.get_feature_importance(), y = features);"
   ]
  },
  {
   "cell_type": "markdown",
   "id": "a1253468",
   "metadata": {},
   "source": [
    "### Save the model locally"
   ]
  },
  {
   "cell_type": "code",
   "execution_count": 17,
   "id": "53fe32ca",
   "metadata": {
    "jupyter": {
     "source_hidden": true
    }
   },
   "outputs": [],
   "source": [
    "import os\n",
    "from ads.common.model_artifact import ModelArtifact\n",
    "from ads.common.model_export_util import prepare_generic_model\n",
    "\n",
    "import json\n",
    "import pickle"
   ]
  },
  {
   "cell_type": "code",
   "execution_count": 18,
   "id": "c06a8bdb",
   "metadata": {
    "jupyter": {
     "source_hidden": true
    }
   },
   "outputs": [],
   "source": [
    "# 1. prepare artifacts directory\n",
    "\n",
    "PATH_ARTEFACT = f\"/home/datascience/model-files\"\n",
    "\n",
    "if not os.path.exists(PATH_ARTEFACT):\n",
    "    os.mkdir(PATH_ARTEFACT)"
   ]
  },
  {
   "cell_type": "code",
   "execution_count": 19,
   "id": "593e4a24",
   "metadata": {
    "jupyter": {
     "source_hidden": true
    }
   },
   "outputs": [],
   "source": [
    "# 2. serialize model\n",
    "\n",
    "pickle.dump(model, open(PATH_ARTEFACT + '/model.pkl', 'wb'))"
   ]
  },
  {
   "cell_type": "code",
   "execution_count": null,
   "id": "2aeeec9d",
   "metadata": {
    "jupyter": {
     "source_hidden": true
    }
   },
   "outputs": [],
   "source": [
    "# 3. prepare deploy to Model Catalog\n",
    "my_inf_conda_env = 'oci://conda_envs@fr95jjtqbdhh/conda_environments/gpu/tf26_catboost/1.0/tf26_catboostv1_0'\n",
    "\n",
    "artifact = prepare_generic_model(PATH_ARTEFACT, force_overwrite=True, data_science_env=False, inference_conda_env=my_inf_conda_env)"
   ]
  },
  {
   "cell_type": "code",
   "execution_count": null,
   "id": "56cddc98",
   "metadata": {
    "jupyter": {
     "source_hidden": true
    }
   },
   "outputs": [],
   "source": [
    "# 4. Saving the model artifact to the model catalog.\n",
    "catalog_entry = artifact.save(display_name='model-catboost16', description='A model for Employee Attrition using catboost')"
   ]
  },
  {
   "cell_type": "code",
   "execution_count": null,
   "id": "fc98f1e0",
   "metadata": {
    "jupyter": {
     "source_hidden": true
    }
   },
   "outputs": [],
   "source": []
  }
 ],
 "metadata": {
  "kernelspec": {
   "display_name": "Python [conda env:tf26_catboostv1_0]",
   "language": "python",
   "name": "conda-env-tf26_catboostv1_0-py"
  },
  "language_info": {
   "codemirror_mode": {
    "name": "ipython",
    "version": 3
   },
   "file_extension": ".py",
   "mimetype": "text/x-python",
   "name": "python",
   "nbconvert_exporter": "python",
   "pygments_lexer": "ipython3",
   "version": "3.7.10"
  }
 },
 "nbformat": 4,
 "nbformat_minor": 5
}
