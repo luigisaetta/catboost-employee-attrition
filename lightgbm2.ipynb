{
 "cells": [
  {
   "cell_type": "markdown",
   "id": "fb412a1f",
   "metadata": {},
   "source": [
    "### Employee Attrition using **LightGBM**\n",
    "\n",
    "* L.S, ottobre 2021\n",
    "* gestione delle feature categoriche\n",
    "* importanza del learning rate\n",
    "* training incrementale\n",
    "* feature importance (eXplain)"
   ]
  },
  {
   "cell_type": "markdown",
   "id": "0d61b114",
   "metadata": {},
   "source": [
    "In questo Notebook provo Optuna con un approccio leggermente diverso: uso come score f1score"
   ]
  },
  {
   "cell_type": "code",
   "execution_count": 44,
   "id": "c6b3d8dc",
   "metadata": {},
   "outputs": [],
   "source": [
    "import pandas as pd\n",
    "import numpy as np\n",
    "\n",
    "# for reading data from Object Storage\n",
    "import ocifs\n",
    "from ads import set_auth\n",
    "\n",
    "# usero' LightGBM\n",
    "import lightgbm as lgb\n",
    "\n",
    "# per la confusion matrix\n",
    "from sklearn.metrics import confusion_matrix, ConfusionMatrixDisplay\n",
    "from sklearn.metrics import roc_auc_score\n",
    "from sklearn.preprocessing import LabelEncoder\n",
    "\n",
    "from sklearn.metrics import recall_score\n",
    "from sklearn.metrics import precision_score\n",
    "from sklearn.metrics import f1_score\n",
    "\n",
    "import matplotlib.pyplot as plt\n",
    "import seaborn as sns\n",
    "\n",
    "# yes, we have optuna\n",
    "import optuna"
   ]
  },
  {
   "cell_type": "code",
   "execution_count": 2,
   "id": "19ff16d8",
   "metadata": {},
   "outputs": [
    {
     "name": "stdout",
     "output_type": "stream",
     "text": [
      "3.2.1\n"
     ]
    }
   ],
   "source": [
    "print(lgb.__version__)"
   ]
  },
  {
   "cell_type": "code",
   "execution_count": 6,
   "id": "670b0c27",
   "metadata": {},
   "outputs": [],
   "source": [
    "# this way we enable access to Object Storage\n",
    "set_auth(auth='resource_principal')"
   ]
  },
  {
   "cell_type": "code",
   "execution_count": 47,
   "id": "9167b4be",
   "metadata": {},
   "outputs": [],
   "source": [
    "# utility function and globals\n",
    "# GLOBALS\n",
    "FIGSIZE = (9, 6)\n",
    "\n",
    "SEED = 42\n",
    "\n",
    "# additional print\n",
    "DEBUG = 0\n",
    "\n",
    "def plot_cm(model, x_test, y_test):\n",
    "    y_pred_labels = model.predict(x_test)\n",
    "    cm = confusion_matrix(y_test, y_pred_labels)\n",
    "    disp = ConfusionMatrixDisplay(confusion_matrix=cm)\n",
    "    disp.plot();\n",
    "    \n",
    "def compute_auc(model, x_test, y_test):\n",
    "    y_pred = model.predict_proba(x_test)\n",
    "    y_pred = y_pred[:, 1]\n",
    "    auc = round(roc_auc_score(y_test, y_pred), 4)\n",
    "    \n",
    "    return auc\n",
    "\n",
    "def compute_prec_rec(model, x_test, y_test):\n",
    "    y_pred_labels = model.predict(x_test)\n",
    "    \n",
    "    rec = round(recall_score(y_test, y_pred_labels), 4)\n",
    "    prec = round(precision_score(y_test, y_pred_labels), 4)\n",
    "    \n",
    "    return prec, rec\n",
    "\n",
    "def compute_f1_score(model, x_test, y_test):\n",
    "    y_pred_labels = model.predict(x_test)\n",
    "    \n",
    "    return round(f1_score(y_test, y_pred_labels), 4)\n",
    "    \n",
    "def set_as_categorical(dataf, cat_columns):\n",
    "    for c in cat_columns:\n",
    "        if DEBUG:\n",
    "            print('Setting:', c)\n",
    "        dataf[c] = dataf[c].astype('category')\n",
    "            \n",
    "    return dataf\n",
    "\n",
    "#\n",
    "# my split in train, test set\n",
    "#\n",
    "def my_train_test_split(df, frac):\n",
    "    # frac: the fraction used for train\n",
    "    # df: the dataframe\n",
    "    \n",
    "    # shuffle before split\n",
    "    df = df.sample(frac=1., random_state=SEED)\n",
    "\n",
    "    # FRAC = 0.90\n",
    "    tot_rec = df.shape[0]\n",
    "    NUM_TRAIN = int(frac*tot_rec)\n",
    "    NUM_TEST = tot_rec - NUM_TRAIN\n",
    "\n",
    "    data_train = df[:NUM_TRAIN]\n",
    "    data_test = df[NUM_TRAIN:]\n",
    "\n",
    "    print()\n",
    "    print('Numero totale di campioni:', tot_rec)\n",
    "    print('Numero di campioni nel TRAIN SET:', data_train.shape[0])\n",
    "    print('Numero di campioni nel TEST SET:', data_test.shape[0])\n",
    "    \n",
    "    return data_train, data_test\n",
    "\n",
    "# read the csv from Object storage and return a pandas df\n",
    "def read_from_object_storage(prefix, file_name):\n",
    "    # get access to OSS as an fs\n",
    "    # config={} assume resource_principal auth\n",
    "    fs = ocifs.OCIFileSystem(config={})\n",
    "    \n",
    "    FILE_PATH = prefix + file_name\n",
    "    \n",
    "    # reading data from Object Storage\n",
    "    with fs.open(FILE_PATH, 'rb') as f:\n",
    "        df = pd.read_csv(f)\n",
    "    \n",
    "    return df"
   ]
  },
  {
   "cell_type": "code",
   "execution_count": 48,
   "id": "463a0e0a",
   "metadata": {},
   "outputs": [
    {
     "name": "stderr",
     "output_type": "stream",
     "text": [
      "PermissionError: The required information to complete authentication was not provided."
     ]
    }
   ],
   "source": [
    "# input data from file in Object Storage\n",
    "PREFIX = \"oci://data_input@fr95jjtqbdhh/\"\n",
    "FILE_NAME = \"orcl_attrition.csv\"\n",
    "\n",
    "# see in functions above\n",
    "data_orig = read_from_object_storage(prefix=PREFIX, file_name=FILE_NAME)\n",
    "\n",
    "# some columns are not needed. This is the list of columns that will be used\n",
    "my_columns = ['Age', 'Attrition', 'EnvironmentSatisfaction', 'MaritalStatus', 'TravelForWork', 'SalaryLevel', 'JobFunction', 'CommuteLength', 'EducationalLevel', 'EducationField', 'MonthlyIncome', \n",
    "              'OverTime', 'StockOptionLevel', 'TrainingTimesLastYear', 'YearsSinceLastPromotion', 'WorkLifeBalance']\n",
    "\n",
    "# dataset filtrato eliminando le colonne non necessarie\n",
    "data = data_orig[my_columns]\n",
    "\n",
    "data.head()"
   ]
  },
  {
   "cell_type": "code",
   "execution_count": 49,
   "id": "1ab1e0e7",
   "metadata": {},
   "outputs": [],
   "source": [
    "# una buona idea è di partire con alcune selezionate feature, per non complicare eccessivamente lo sviluppo del modello e poi aggiungere, tenendo conto\n",
    "# dei risultati del Notebook sogei1"
   ]
  },
  {
   "cell_type": "code",
   "execution_count": 50,
   "id": "20231c4b",
   "metadata": {},
   "outputs": [
    {
     "data": {
      "text/html": [
       "<div>\n",
       "<style scoped>\n",
       "    .dataframe tbody tr th:only-of-type {\n",
       "        vertical-align: middle;\n",
       "    }\n",
       "\n",
       "    .dataframe tbody tr th {\n",
       "        vertical-align: top;\n",
       "    }\n",
       "\n",
       "    .dataframe thead th {\n",
       "        text-align: right;\n",
       "    }\n",
       "</style>\n",
       "<table border=\"1\" class=\"dataframe\">\n",
       "  <thead>\n",
       "    <tr style=\"text-align: right;\">\n",
       "      <th></th>\n",
       "      <th>Age</th>\n",
       "      <th>Attrition</th>\n",
       "      <th>EnvironmentSatisfaction</th>\n",
       "      <th>MaritalStatus</th>\n",
       "      <th>TravelForWork</th>\n",
       "      <th>SalaryLevel</th>\n",
       "      <th>JobFunction</th>\n",
       "      <th>CommuteLength</th>\n",
       "      <th>EducationalLevel</th>\n",
       "      <th>EducationField</th>\n",
       "      <th>MonthlyIncome</th>\n",
       "      <th>OverTime</th>\n",
       "      <th>StockOptionLevel</th>\n",
       "      <th>TrainingTimesLastYear</th>\n",
       "      <th>YearsSinceLastPromotion</th>\n",
       "      <th>WorkLifeBalance</th>\n",
       "    </tr>\n",
       "  </thead>\n",
       "  <tbody>\n",
       "    <tr>\n",
       "      <th>0</th>\n",
       "      <td>42</td>\n",
       "      <td>Yes</td>\n",
       "      <td>2</td>\n",
       "      <td>Single</td>\n",
       "      <td>infrequent</td>\n",
       "      <td>5054</td>\n",
       "      <td>Product Management</td>\n",
       "      <td>2</td>\n",
       "      <td>L2</td>\n",
       "      <td>Life Sciences</td>\n",
       "      <td>5993</td>\n",
       "      <td>Yes</td>\n",
       "      <td>0</td>\n",
       "      <td>0</td>\n",
       "      <td>0</td>\n",
       "      <td>1</td>\n",
       "    </tr>\n",
       "    <tr>\n",
       "      <th>1</th>\n",
       "      <td>50</td>\n",
       "      <td>No</td>\n",
       "      <td>3</td>\n",
       "      <td>Married</td>\n",
       "      <td>often</td>\n",
       "      <td>1278</td>\n",
       "      <td>Software Developer</td>\n",
       "      <td>9</td>\n",
       "      <td>L1</td>\n",
       "      <td>Life Sciences</td>\n",
       "      <td>5130</td>\n",
       "      <td>No</td>\n",
       "      <td>1</td>\n",
       "      <td>3</td>\n",
       "      <td>1</td>\n",
       "      <td>3</td>\n",
       "    </tr>\n",
       "    <tr>\n",
       "      <th>2</th>\n",
       "      <td>38</td>\n",
       "      <td>Yes</td>\n",
       "      <td>4</td>\n",
       "      <td>Single</td>\n",
       "      <td>infrequent</td>\n",
       "      <td>6296</td>\n",
       "      <td>Software Developer</td>\n",
       "      <td>3</td>\n",
       "      <td>L2</td>\n",
       "      <td>Other</td>\n",
       "      <td>2090</td>\n",
       "      <td>Yes</td>\n",
       "      <td>0</td>\n",
       "      <td>3</td>\n",
       "      <td>0</td>\n",
       "      <td>3</td>\n",
       "    </tr>\n",
       "    <tr>\n",
       "      <th>3</th>\n",
       "      <td>34</td>\n",
       "      <td>No</td>\n",
       "      <td>4</td>\n",
       "      <td>Married</td>\n",
       "      <td>often</td>\n",
       "      <td>6384</td>\n",
       "      <td>Software Developer</td>\n",
       "      <td>4</td>\n",
       "      <td>L4</td>\n",
       "      <td>Life Sciences</td>\n",
       "      <td>2909</td>\n",
       "      <td>Yes</td>\n",
       "      <td>0</td>\n",
       "      <td>3</td>\n",
       "      <td>3</td>\n",
       "      <td>3</td>\n",
       "    </tr>\n",
       "    <tr>\n",
       "      <th>4</th>\n",
       "      <td>28</td>\n",
       "      <td>No</td>\n",
       "      <td>1</td>\n",
       "      <td>Married</td>\n",
       "      <td>infrequent</td>\n",
       "      <td>2710</td>\n",
       "      <td>Software Developer</td>\n",
       "      <td>3</td>\n",
       "      <td>L1</td>\n",
       "      <td>Medical</td>\n",
       "      <td>3468</td>\n",
       "      <td>No</td>\n",
       "      <td>1</td>\n",
       "      <td>3</td>\n",
       "      <td>2</td>\n",
       "      <td>3</td>\n",
       "    </tr>\n",
       "  </tbody>\n",
       "</table>\n",
       "</div>"
      ],
      "text/plain": [
       "   Age Attrition  EnvironmentSatisfaction MaritalStatus TravelForWork  \\\n",
       "0   42       Yes                        2        Single    infrequent   \n",
       "1   50        No                        3       Married         often   \n",
       "2   38       Yes                        4        Single    infrequent   \n",
       "3   34        No                        4       Married         often   \n",
       "4   28        No                        1       Married    infrequent   \n",
       "\n",
       "   SalaryLevel         JobFunction  CommuteLength EducationalLevel  \\\n",
       "0         5054  Product Management              2               L2   \n",
       "1         1278  Software Developer              9               L1   \n",
       "2         6296  Software Developer              3               L2   \n",
       "3         6384  Software Developer              4               L4   \n",
       "4         2710  Software Developer              3               L1   \n",
       "\n",
       "  EducationField  MonthlyIncome OverTime  StockOptionLevel  \\\n",
       "0  Life Sciences           5993      Yes                 0   \n",
       "1  Life Sciences           5130       No                 1   \n",
       "2          Other           2090      Yes                 0   \n",
       "3  Life Sciences           2909      Yes                 0   \n",
       "4        Medical           3468       No                 1   \n",
       "\n",
       "   TrainingTimesLastYear  YearsSinceLastPromotion  WorkLifeBalance  \n",
       "0                      0                        0                1  \n",
       "1                      3                        1                3  \n",
       "2                      3                        0                3  \n",
       "3                      3                        3                3  \n",
       "4                      3                        2                3  "
      ]
     },
     "execution_count": 50,
     "metadata": {},
     "output_type": "execute_result"
    }
   ],
   "source": [
    "my_columns = ['Age', 'Attrition', 'EnvironmentSatisfaction', 'MaritalStatus', 'TravelForWork', 'SalaryLevel', 'JobFunction', 'CommuteLength', 'EducationalLevel', 'EducationField', 'MonthlyIncome', \n",
    "              'OverTime', 'StockOptionLevel', 'TrainingTimesLastYear', 'YearsSinceLastPromotion', 'WorkLifeBalance']\n",
    "\n",
    "data = data_orig[my_columns]\n",
    "\n",
    "data.head()"
   ]
  },
  {
   "cell_type": "code",
   "execution_count": 51,
   "id": "b695a3e4",
   "metadata": {},
   "outputs": [
    {
     "name": "stdout",
     "output_type": "stream",
     "text": [
      "Colonna Target: Attrition\n",
      "\n",
      "Tutte le features: ['Age', 'CommuteLength', 'EducationField', 'EducationalLevel', 'EnvironmentSatisfaction', 'JobFunction', 'MaritalStatus', 'MonthlyIncome', 'OverTime', 'SalaryLevel', 'StockOptionLevel', 'TrainingTimesLastYear', 'TravelForWork', 'WorkLifeBalance', 'YearsSinceLastPromotion'] 15\n",
      "\n",
      "Colonne categorical: ['Age', 'CommuteLength', 'EducationField', 'EducationalLevel', 'EnvironmentSatisfaction', 'JobFunction', 'MaritalStatus', 'OverTime', 'StockOptionLevel', 'TrainingTimesLastYear', 'TravelForWork', 'WorkLifeBalance', 'YearsSinceLastPromotion'] 13\n",
      "\n",
      "Colonne numeriche: ['MonthlyIncome', 'SalaryLevel'] 2\n"
     ]
    }
   ],
   "source": [
    "# tipologie di features e colonne\n",
    "TARGET = 'Attrition'\n",
    "\n",
    "# automatizziamo !!!\n",
    "all_columns = sorted(data.columns)\n",
    "features = sorted(list(set(all_columns) - set([TARGET])))\n",
    "\n",
    "# per decidere, guarda statistiche dal Notebook 1\n",
    "cat_columns = sorted(['Age', 'CommuteLength','EnvironmentSatisfaction','MaritalStatus', 'TravelForWork', 'JobFunction', \n",
    "                      'EducationalLevel', 'EducationField', 'OverTime', \n",
    "                      'StockOptionLevel', 'TrainingTimesLastYear',\n",
    "                      'YearsSinceLastPromotion', 'WorkLifeBalance'])\n",
    "\n",
    "\n",
    "\n",
    "# colonne numeriche, continue (tutte le altre)\n",
    "num_columns = sorted(list(set(all_columns) - set(cat_columns) - set([TARGET])))\n",
    "\n",
    "print('Colonna Target:', TARGET)\n",
    "print()\n",
    "print('Tutte le features:', features, len(features))\n",
    "print()\n",
    "print('Colonne categorical:', cat_columns, len(cat_columns))\n",
    "print()\n",
    "print('Colonne numeriche:', num_columns, len(num_columns))"
   ]
  },
  {
   "cell_type": "code",
   "execution_count": 52,
   "id": "2e8c2547",
   "metadata": {},
   "outputs": [
    {
     "name": "stdout",
     "output_type": "stream",
     "text": [
      "Tratto: Age\n",
      "Tratto: CommuteLength\n",
      "Tratto: EducationField\n",
      "Tratto: EducationalLevel\n",
      "Tratto: EnvironmentSatisfaction\n",
      "Tratto: JobFunction\n",
      "Tratto: MaritalStatus\n",
      "Tratto: OverTime\n",
      "Tratto: StockOptionLevel\n",
      "Tratto: TrainingTimesLastYear\n",
      "Tratto: TravelForWork\n",
      "Tratto: WorkLifeBalance\n",
      "Tratto: YearsSinceLastPromotion\n"
     ]
    }
   ],
   "source": [
    "# tratto le colonne categoriche\n",
    "for col in cat_columns:\n",
    "    print('Tratto:', col)\n",
    "    \n",
    "    le_cat = LabelEncoder()\n",
    "    le_cat.fit(data[col].values)\n",
    "    \n",
    "    data[col] = le_cat.transform(data[col])"
   ]
  },
  {
   "cell_type": "code",
   "execution_count": 53,
   "id": "4affba92",
   "metadata": {},
   "outputs": [
    {
     "data": {
      "text/html": [
       "<div>\n",
       "<style scoped>\n",
       "    .dataframe tbody tr th:only-of-type {\n",
       "        vertical-align: middle;\n",
       "    }\n",
       "\n",
       "    .dataframe tbody tr th {\n",
       "        vertical-align: top;\n",
       "    }\n",
       "\n",
       "    .dataframe thead th {\n",
       "        text-align: right;\n",
       "    }\n",
       "</style>\n",
       "<table border=\"1\" class=\"dataframe\">\n",
       "  <thead>\n",
       "    <tr style=\"text-align: right;\">\n",
       "      <th></th>\n",
       "      <th>Age</th>\n",
       "      <th>Attrition</th>\n",
       "      <th>EnvironmentSatisfaction</th>\n",
       "      <th>MaritalStatus</th>\n",
       "      <th>TravelForWork</th>\n",
       "      <th>SalaryLevel</th>\n",
       "      <th>JobFunction</th>\n",
       "      <th>CommuteLength</th>\n",
       "      <th>EducationalLevel</th>\n",
       "      <th>EducationField</th>\n",
       "      <th>MonthlyIncome</th>\n",
       "      <th>OverTime</th>\n",
       "      <th>StockOptionLevel</th>\n",
       "      <th>TrainingTimesLastYear</th>\n",
       "      <th>YearsSinceLastPromotion</th>\n",
       "      <th>WorkLifeBalance</th>\n",
       "    </tr>\n",
       "  </thead>\n",
       "  <tbody>\n",
       "    <tr>\n",
       "      <th>0</th>\n",
       "      <td>23</td>\n",
       "      <td>Yes</td>\n",
       "      <td>1</td>\n",
       "      <td>2</td>\n",
       "      <td>0</td>\n",
       "      <td>5054</td>\n",
       "      <td>1</td>\n",
       "      <td>0</td>\n",
       "      <td>1</td>\n",
       "      <td>1</td>\n",
       "      <td>5993</td>\n",
       "      <td>1</td>\n",
       "      <td>0</td>\n",
       "      <td>0</td>\n",
       "      <td>0</td>\n",
       "      <td>0</td>\n",
       "    </tr>\n",
       "    <tr>\n",
       "      <th>1</th>\n",
       "      <td>31</td>\n",
       "      <td>No</td>\n",
       "      <td>2</td>\n",
       "      <td>1</td>\n",
       "      <td>2</td>\n",
       "      <td>1278</td>\n",
       "      <td>2</td>\n",
       "      <td>7</td>\n",
       "      <td>0</td>\n",
       "      <td>1</td>\n",
       "      <td>5130</td>\n",
       "      <td>0</td>\n",
       "      <td>1</td>\n",
       "      <td>3</td>\n",
       "      <td>1</td>\n",
       "      <td>2</td>\n",
       "    </tr>\n",
       "    <tr>\n",
       "      <th>2</th>\n",
       "      <td>19</td>\n",
       "      <td>Yes</td>\n",
       "      <td>3</td>\n",
       "      <td>2</td>\n",
       "      <td>0</td>\n",
       "      <td>6296</td>\n",
       "      <td>2</td>\n",
       "      <td>1</td>\n",
       "      <td>1</td>\n",
       "      <td>4</td>\n",
       "      <td>2090</td>\n",
       "      <td>1</td>\n",
       "      <td>0</td>\n",
       "      <td>3</td>\n",
       "      <td>0</td>\n",
       "      <td>2</td>\n",
       "    </tr>\n",
       "    <tr>\n",
       "      <th>3</th>\n",
       "      <td>15</td>\n",
       "      <td>No</td>\n",
       "      <td>3</td>\n",
       "      <td>1</td>\n",
       "      <td>2</td>\n",
       "      <td>6384</td>\n",
       "      <td>2</td>\n",
       "      <td>2</td>\n",
       "      <td>3</td>\n",
       "      <td>1</td>\n",
       "      <td>2909</td>\n",
       "      <td>1</td>\n",
       "      <td>0</td>\n",
       "      <td>3</td>\n",
       "      <td>3</td>\n",
       "      <td>2</td>\n",
       "    </tr>\n",
       "    <tr>\n",
       "      <th>4</th>\n",
       "      <td>9</td>\n",
       "      <td>No</td>\n",
       "      <td>0</td>\n",
       "      <td>1</td>\n",
       "      <td>0</td>\n",
       "      <td>2710</td>\n",
       "      <td>2</td>\n",
       "      <td>1</td>\n",
       "      <td>0</td>\n",
       "      <td>3</td>\n",
       "      <td>3468</td>\n",
       "      <td>0</td>\n",
       "      <td>1</td>\n",
       "      <td>3</td>\n",
       "      <td>2</td>\n",
       "      <td>2</td>\n",
       "    </tr>\n",
       "  </tbody>\n",
       "</table>\n",
       "</div>"
      ],
      "text/plain": [
       "   Age Attrition  EnvironmentSatisfaction  MaritalStatus  TravelForWork  \\\n",
       "0   23       Yes                        1              2              0   \n",
       "1   31        No                        2              1              2   \n",
       "2   19       Yes                        3              2              0   \n",
       "3   15        No                        3              1              2   \n",
       "4    9        No                        0              1              0   \n",
       "\n",
       "   SalaryLevel  JobFunction  CommuteLength  EducationalLevel  EducationField  \\\n",
       "0         5054            1              0                 1               1   \n",
       "1         1278            2              7                 0               1   \n",
       "2         6296            2              1                 1               4   \n",
       "3         6384            2              2                 3               1   \n",
       "4         2710            2              1                 0               3   \n",
       "\n",
       "   MonthlyIncome  OverTime  StockOptionLevel  TrainingTimesLastYear  \\\n",
       "0           5993         1                 0                      0   \n",
       "1           5130         0                 1                      3   \n",
       "2           2090         1                 0                      3   \n",
       "3           2909         1                 0                      3   \n",
       "4           3468         0                 1                      3   \n",
       "\n",
       "   YearsSinceLastPromotion  WorkLifeBalance  \n",
       "0                        0                0  \n",
       "1                        1                2  \n",
       "2                        0                2  \n",
       "3                        3                2  \n",
       "4                        2                2  "
      ]
     },
     "execution_count": 53,
     "metadata": {},
     "output_type": "execute_result"
    }
   ],
   "source": [
    "data.head()"
   ]
  },
  {
   "cell_type": "code",
   "execution_count": 54,
   "id": "4ed951c1",
   "metadata": {},
   "outputs": [
    {
     "name": "stdout",
     "output_type": "stream",
     "text": [
      "\n",
      "Numero totale di campioni: 1470\n",
      "Numero di campioni nel TRAIN SET: 1323\n",
      "Numero di campioni nel TEST SET: 147\n"
     ]
    }
   ],
   "source": [
    "# split TRAIN, TEST\n",
    "# shuffle prima dello split TRAIN, TEST\n",
    "FRAC = 0.90\n",
    "\n",
    "data_train, data_test = my_train_test_split(data, frac=FRAC)"
   ]
  },
  {
   "cell_type": "code",
   "execution_count": 55,
   "id": "4bbcef38",
   "metadata": {},
   "outputs": [],
   "source": [
    "# dovrò riservare un trattamento dedicato alle colonne categoriche\n",
    "\n",
    "# da docs di LightGBM, basta: codificare le cat come interi e specificare i nomi delle colonne in categorical_feature\n",
    "  \n",
    "data_train = set_as_categorical(data_train, cat_columns)\n",
    "data_test = set_as_categorical(data_test, cat_columns)"
   ]
  },
  {
   "cell_type": "code",
   "execution_count": 56,
   "id": "91d349c5",
   "metadata": {},
   "outputs": [],
   "source": [
    "# separo X ed y\n",
    "x_train = data_train[features]\n",
    "y_train = data_train[TARGET]\n",
    "\n",
    "x_test = data_test[features]\n",
    "y_test = data_test[TARGET]\n",
    "\n",
    "# encode labels\n",
    "le = LabelEncoder()\n",
    "\n",
    "le.fit(y_train.values)\n",
    "\n",
    "y_train = le.transform(y_train.values)\n",
    "y_test = le.transform(y_test.values)"
   ]
  },
  {
   "cell_type": "markdown",
   "id": "e52bc0d7",
   "metadata": {},
   "source": [
    "### training del modello"
   ]
  },
  {
   "cell_type": "code",
   "execution_count": 57,
   "id": "d30b04a7",
   "metadata": {},
   "outputs": [
    {
     "name": "stdout",
     "output_type": "stream",
     "text": [
      "[LightGBM] [Warning] early_stopping_round is set=10, early_stopping_rounds=10 will be ignored. Current value: early_stopping_round=10\n",
      "CPU times: user 25min 44s, sys: 1.15 s, total: 25min 46s\n",
      "Wall time: 1min 12s\n"
     ]
    }
   ],
   "source": [
    "%%time\n",
    "\n",
    "params = {\n",
    "    'boosting_type': 'gbdt',\n",
    "    'objective': 'binary',\n",
    "    'n_estimators': 100,\n",
    "    'num_leaves': 30,\n",
    "    'early_stopping_rounds': 10,\n",
    "    'max_depth': 10,\n",
    "    'learning_rate': 0.008\n",
    "}\n",
    "\n",
    "# I have specified here cat_features\n",
    "fit_params = {\n",
    "    'feature_name': features,\n",
    "    'categorical_feature': cat_columns,\n",
    "    'eval_metric': 'logloss',\n",
    "    'eval_set': [(x_test, y_test)]\n",
    "}\n",
    "\n",
    "model = lgb.LGBMClassifier(seed=SEED, n_jobs=-1, **params)\n",
    "        \n",
    "best_model = model.fit(x_train, y_train, verbose=0, **fit_params)"
   ]
  },
  {
   "cell_type": "code",
   "execution_count": 58,
   "id": "dfeb8b2c",
   "metadata": {},
   "outputs": [
    {
     "data": {
      "image/png": "[encoded data removed]",
      "text/plain": [
       "<Figure size 648x432 with 1 Axes>"
      ]
     },
     "metadata": {
      "needs_background": "light"
     },
     "output_type": "display_data"
    }
   ],
   "source": [
    "lgb.plot_metric(model, metric='binary_logloss', figsize=FIGSIZE, title='validation logloss');"
   ]
  },
  {
   "cell_type": "code",
   "execution_count": 60,
   "id": "4e4a6980",
   "metadata": {},
   "outputs": [
    {
     "data": {
      "text/plain": [
       "0.1935"
      ]
     },
     "execution_count": 60,
     "metadata": {},
     "output_type": "execute_result"
    }
   ],
   "source": [
    "compute_f1_score(best_model, x_test, y_test)"
   ]
  },
  {
   "cell_type": "code",
   "execution_count": 34,
   "id": "df121f0d",
   "metadata": {},
   "outputs": [
    {
     "data": {
      "image/png": "[encoded data removed]",
      "text/plain": [
       "<Figure size 432x288 with 2 Axes>"
      ]
     },
     "metadata": {
      "needs_background": "light"
     },
     "output_type": "display_data"
    }
   ],
   "source": [
    "plot_cm(best_model, x_test, y_test)"
   ]
  },
  {
   "cell_type": "code",
   "execution_count": 35,
   "id": "fee78c92",
   "metadata": {},
   "outputs": [
    {
     "data": {
      "image/png": "[encoded data removed]",
      "text/plain": [
       "<Figure size 432x288 with 2 Axes>"
      ]
     },
     "metadata": {
      "needs_background": "light"
     },
     "output_type": "display_data"
    }
   ],
   "source": [
    "plot_cm(best_model, x_train, y_train)"
   ]
  },
  {
   "cell_type": "code",
   "execution_count": 36,
   "id": "261a3217",
   "metadata": {},
   "outputs": [
    {
     "data": {
      "image/png": "[encoded data removed]",
      "text/plain": [
       "<Figure size 648x432 with 1 Axes>"
      ]
     },
     "metadata": {
      "needs_background": "light"
     },
     "output_type": "display_data"
    }
   ],
   "source": [
    "# Quali sono le feature più importanti ?\n",
    "\n",
    "lgb.plot_importance(best_model, figsize=FIGSIZE, max_num_features=len(features));"
   ]
  },
  {
   "cell_type": "code",
   "execution_count": 37,
   "id": "d8f023d3",
   "metadata": {},
   "outputs": [
    {
     "name": "stdout",
     "output_type": "stream",
     "text": [
      "AUC computed on the test set is: 0.8386\n"
     ]
    }
   ],
   "source": [
    "auc = compute_auc(model, x_test, y_test)\n",
    "\n",
    "print('AUC computed on the test set is:', auc)"
   ]
  },
  {
   "cell_type": "code",
   "execution_count": 38,
   "id": "a537439a",
   "metadata": {},
   "outputs": [
    {
     "name": "stdout",
     "output_type": "stream",
     "text": [
      "precision and recall computed on the test set are: prec: 0.7857 rec: 0.4074\n"
     ]
    }
   ],
   "source": [
    "# calcolo prec, rec\n",
    "prec, rec = compute_prec_rec(model, x_test, y_test)\n",
    "\n",
    "print('precision and recall computed on the test set are:', 'prec:', prec, 'rec:', rec)"
   ]
  },
  {
   "cell_type": "markdown",
   "id": "7d487c4f",
   "metadata": {},
   "source": [
    "### Proviamo a gestire lo sbilanciamento (pochi casi positivi nel training dataset)"
   ]
  },
  {
   "cell_type": "code",
   "execution_count": 39,
   "id": "deeb80fb",
   "metadata": {},
   "outputs": [
    {
     "name": "stdout",
     "output_type": "stream",
     "text": [
      "[LightGBM] [Warning] early_stopping_round is set=20, early_stopping_rounds=20 will be ignored. Current value: early_stopping_round=20\n",
      "CPU times: user 28min 1s, sys: 1.18 s, total: 28min 2s\n",
      "Wall time: 1min 18s\n"
     ]
    }
   ],
   "source": [
    "%%time\n",
    "\n",
    "params = {\n",
    "    'boosting_type': 'gbdt',\n",
    "    'objective': 'binary',\n",
    "    'n_estimators': 300,\n",
    "    'num_leaves': 30,\n",
    "    'early_stopping_rounds': 20,\n",
    "    'max_depth': 10,\n",
    "    'learning_rate': 0.008,\n",
    "    # aggiungo questo parametro\n",
    "    'scale_pos_weight': 5.5\n",
    "}\n",
    "\n",
    "fit_params = {\n",
    "    'feature_name': features,\n",
    "    'categorical_feature': cat_columns,\n",
    "    'eval_metric': 'logloss',\n",
    "    'eval_set': [(x_test, y_test)]\n",
    "}\n",
    "\n",
    "\n",
    "model2 = lgb.LGBMClassifier(seed=SEED, n_jobs=-1, **params)\n",
    "        \n",
    "\n",
    "best_model2 = model2.fit(x_train, y_train, verbose=0, **fit_params)"
   ]
  },
  {
   "cell_type": "code",
   "execution_count": 40,
   "id": "ce07cf78",
   "metadata": {},
   "outputs": [
    {
     "data": {
      "image/png": "[encoded data removed]",
      "text/plain": [
       "<Figure size 648x432 with 1 Axes>"
      ]
     },
     "metadata": {
      "needs_background": "light"
     },
     "output_type": "display_data"
    }
   ],
   "source": [
    "lgb.plot_metric(model2, metric='binary_logloss', figsize=FIGSIZE, title='validation logloss');"
   ]
  },
  {
   "cell_type": "code",
   "execution_count": 41,
   "id": "0446d6ec",
   "metadata": {},
   "outputs": [
    {
     "data": {
      "image/png": "[encoded data removed]",
      "text/plain": [
       "<Figure size 432x288 with 2 Axes>"
      ]
     },
     "metadata": {
      "needs_background": "light"
     },
     "output_type": "display_data"
    }
   ],
   "source": [
    "plot_cm(model2, x_test, y_test)"
   ]
  },
  {
   "cell_type": "code",
   "execution_count": 42,
   "id": "ae092a8e",
   "metadata": {},
   "outputs": [
    {
     "data": {
      "image/png": "[encoded data removed]",
      "text/plain": [
       "<Figure size 432x288 with 2 Axes>"
      ]
     },
     "metadata": {
      "needs_background": "light"
     },
     "output_type": "display_data"
    }
   ],
   "source": [
    "plot_cm(model2, x_train, y_train)"
   ]
  },
  {
   "cell_type": "code",
   "execution_count": null,
   "id": "efeebef8",
   "metadata": {},
   "outputs": [],
   "source": [
    "lgb.plot_importance(model2, figsize=FIGSIZE, max_num_features=len(features));"
   ]
  },
  {
   "cell_type": "code",
   "execution_count": null,
   "id": "659c6fb6",
   "metadata": {},
   "outputs": [],
   "source": []
  },
  {
   "cell_type": "code",
   "execution_count": null,
   "id": "5302082c",
   "metadata": {},
   "outputs": [],
   "source": [
    "auc = compute_auc(model2, x_test, y_test)\n",
    "\n",
    "print('AUC computed on the test set is:', auc)"
   ]
  },
  {
   "cell_type": "code",
   "execution_count": null,
   "id": "ad5aebcc",
   "metadata": {},
   "outputs": [],
   "source": [
    "# calcolo prec, rec\n",
    "prec, rec = compute_prec_rec(model2, x_test, y_test)\n",
    "\n",
    "print('precision and recall computed on the test set are:', 'prec:', prec, 'rec:', rec)"
   ]
  },
  {
   "cell_type": "markdown",
   "id": "b0373ab3",
   "metadata": {},
   "source": [
    "### Optuna"
   ]
  },
  {
   "cell_type": "code",
   "execution_count": 65,
   "id": "48740db9",
   "metadata": {},
   "outputs": [],
   "source": [
    "def objective(trial):\n",
    "\n",
    "    params = {\n",
    "        'boosting_type': 'gbdt',\n",
    "        'objective': 'binary',\n",
    "        'n_estimators': 300,\n",
    "        'num_leaves': trial.suggest_int('num_leaves', 10, 30, step=2),\n",
    "        'early_stopping_rounds': 20,\n",
    "        'max_depth': trial.suggest_int('max_depth', 6, 12, step=1),\n",
    "        'learning_rate': 0.008,\n",
    "        # aggiungo questo parametro\n",
    "        'scale_pos_weight': trial.suggest_float('scale_pos_weight', 2, 6, step=0.2)}\n",
    "\n",
    "    fit_params = {\n",
    "        'feature_name': features,\n",
    "        'categorical_feature': cat_columns,\n",
    "        'eval_metric': 'logloss',\n",
    "        'eval_set': [(x_test, y_test)]\n",
    "    }\n",
    "    \n",
    "    model = lgb.LGBMClassifier(seed=SEED, n_jobs=-1, **params)\n",
    "        \n",
    "\n",
    "    best_model = model.fit(x_train, y_train, verbose=0, **fit_params)\n",
    "    \n",
    "    f1 = compute_f1_score(best_model, x_test, y_test)\n",
    "    \n",
    "    return f1"
   ]
  },
  {
   "cell_type": "code",
   "execution_count": 66,
   "id": "f1712d00",
   "metadata": {},
   "outputs": [
    {
     "name": "stderr",
     "output_type": "stream",
     "text": [
      "\u001b[32m[I 2021-11-10 18:16:24,888]\u001b[0m A new study created in memory with name: no-name-be6e1236-304a-4e63-bdb8-05939ab9eb0c\u001b[0m\n"
     ]
    },
    {
     "name": "stdout",
     "output_type": "stream",
     "text": [
      "[LightGBM] [Warning] early_stopping_round is set=20, early_stopping_rounds=20 will be ignored. Current value: early_stopping_round=20\n"
     ]
    },
    {
     "name": "stderr",
     "output_type": "stream",
     "text": [
      "\u001b[32m[I 2021-11-10 18:17:56,794]\u001b[0m Trial 0 finished with value: 0.4615 and parameters: {'num_leaves': 20, 'max_depth': 10, 'scale_pos_weight': 2.2}. Best is trial 0 with value: 0.4615.\u001b[0m\n"
     ]
    },
    {
     "name": "stdout",
     "output_type": "stream",
     "text": [
      "[LightGBM] [Warning] early_stopping_round is set=20, early_stopping_rounds=20 will be ignored. Current value: early_stopping_round=20\n"
     ]
    },
    {
     "name": "stderr",
     "output_type": "stream",
     "text": [
      "\u001b[32m[I 2021-11-10 18:19:33,446]\u001b[0m Trial 1 finished with value: 0.4878 and parameters: {'num_leaves': 28, 'max_depth': 12, 'scale_pos_weight': 6.0}. Best is trial 1 with value: 0.4878.\u001b[0m\n"
     ]
    },
    {
     "name": "stdout",
     "output_type": "stream",
     "text": [
      "[LightGBM] [Warning] early_stopping_round is set=20, early_stopping_rounds=20 will be ignored. Current value: early_stopping_round=20\n"
     ]
    },
    {
     "name": "stderr",
     "output_type": "stream",
     "text": [
      "\u001b[32m[I 2021-11-10 18:20:54,451]\u001b[0m Trial 2 finished with value: 0.4615 and parameters: {'num_leaves': 20, 'max_depth': 9, 'scale_pos_weight': 2.2}. Best is trial 1 with value: 0.4878.\u001b[0m\n"
     ]
    },
    {
     "name": "stdout",
     "output_type": "stream",
     "text": [
      "[LightGBM] [Warning] early_stopping_round is set=20, early_stopping_rounds=20 will be ignored. Current value: early_stopping_round=20\n"
     ]
    },
    {
     "name": "stderr",
     "output_type": "stream",
     "text": [
      "\u001b[32m[I 2021-11-10 18:21:54,397]\u001b[0m Trial 3 finished with value: 0.4324 and parameters: {'num_leaves': 14, 'max_depth': 6, 'scale_pos_weight': 2.0}. Best is trial 1 with value: 0.4878.\u001b[0m\n"
     ]
    },
    {
     "name": "stdout",
     "output_type": "stream",
     "text": [
      "[LightGBM] [Warning] early_stopping_round is set=20, early_stopping_rounds=20 will be ignored. Current value: early_stopping_round=20\n"
     ]
    },
    {
     "name": "stderr",
     "output_type": "stream",
     "text": [
      "\u001b[32m[I 2021-11-10 18:22:54,853]\u001b[0m Trial 4 finished with value: 0.0714 and parameters: {'num_leaves': 24, 'max_depth': 9, 'scale_pos_weight': 5.6}. Best is trial 1 with value: 0.4878.\u001b[0m\n"
     ]
    },
    {
     "name": "stdout",
     "output_type": "stream",
     "text": [
      "[LightGBM] [Warning] early_stopping_round is set=20, early_stopping_rounds=20 will be ignored. Current value: early_stopping_round=20\n"
     ]
    },
    {
     "name": "stderr",
     "output_type": "stream",
     "text": [
      "\u001b[32m[I 2021-11-10 18:23:20,200]\u001b[0m Trial 5 finished with value: 0.0 and parameters: {'num_leaves': 12, 'max_depth': 10, 'scale_pos_weight': 3.8}. Best is trial 1 with value: 0.4878.\u001b[0m\n"
     ]
    },
    {
     "name": "stdout",
     "output_type": "stream",
     "text": [
      "[LightGBM] [Warning] early_stopping_round is set=20, early_stopping_rounds=20 will be ignored. Current value: early_stopping_round=20\n"
     ]
    },
    {
     "name": "stderr",
     "output_type": "stream",
     "text": [
      "\u001b[32m[I 2021-11-10 18:25:30,000]\u001b[0m Trial 6 finished with value: 0.5333 and parameters: {'num_leaves': 26, 'max_depth': 7, 'scale_pos_weight': 2.6}. Best is trial 6 with value: 0.5333.\u001b[0m\n"
     ]
    },
    {
     "name": "stdout",
     "output_type": "stream",
     "text": [
      "[LightGBM] [Warning] early_stopping_round is set=20, early_stopping_rounds=20 will be ignored. Current value: early_stopping_round=20\n"
     ]
    },
    {
     "name": "stderr",
     "output_type": "stream",
     "text": [
      "\u001b[32m[I 2021-11-10 18:26:04,266]\u001b[0m Trial 7 finished with value: 0.0 and parameters: {'num_leaves': 16, 'max_depth': 7, 'scale_pos_weight': 5.6}. Best is trial 6 with value: 0.5333.\u001b[0m\n"
     ]
    },
    {
     "name": "stdout",
     "output_type": "stream",
     "text": [
      "[LightGBM] [Warning] early_stopping_round is set=20, early_stopping_rounds=20 will be ignored. Current value: early_stopping_round=20\n"
     ]
    },
    {
     "name": "stderr",
     "output_type": "stream",
     "text": [
      "\u001b[32m[I 2021-11-10 18:27:01,421]\u001b[0m Trial 8 finished with value: 0.5238 and parameters: {'num_leaves': 10, 'max_depth': 7, 'scale_pos_weight': 2.2}. Best is trial 6 with value: 0.5333.\u001b[0m\n"
     ]
    },
    {
     "name": "stdout",
     "output_type": "stream",
     "text": [
      "[LightGBM] [Warning] early_stopping_round is set=20, early_stopping_rounds=20 will be ignored. Current value: early_stopping_round=20\n"
     ]
    },
    {
     "name": "stderr",
     "output_type": "stream",
     "text": [
      "\u001b[32m[I 2021-11-10 18:27:59,686]\u001b[0m Trial 9 finished with value: 0.5238 and parameters: {'num_leaves': 10, 'max_depth': 10, 'scale_pos_weight': 2.2}. Best is trial 6 with value: 0.5333.\u001b[0m\n"
     ]
    },
    {
     "name": "stdout",
     "output_type": "stream",
     "text": [
      "[LightGBM] [Warning] early_stopping_round is set=20, early_stopping_rounds=20 will be ignored. Current value: early_stopping_round=20\n"
     ]
    },
    {
     "name": "stderr",
     "output_type": "stream",
     "text": [
      "\u001b[32m[I 2021-11-10 18:29:08,964]\u001b[0m Trial 10 finished with value: 0.3429 and parameters: {'num_leaves': 30, 'max_depth': 6, 'scale_pos_weight': 3.4000000000000004}. Best is trial 6 with value: 0.5333.\u001b[0m\n"
     ]
    },
    {
     "name": "stdout",
     "output_type": "stream",
     "text": [
      "[LightGBM] [Warning] early_stopping_round is set=20, early_stopping_rounds=20 will be ignored. Current value: early_stopping_round=20\n"
     ]
    },
    {
     "name": "stderr",
     "output_type": "stream",
     "text": [
      "\u001b[32m[I 2021-11-10 18:30:18,850]\u001b[0m Trial 11 finished with value: 0.3889 and parameters: {'num_leaves': 24, 'max_depth': 8, 'scale_pos_weight': 3.0}. Best is trial 6 with value: 0.5333.\u001b[0m\n"
     ]
    },
    {
     "name": "stdout",
     "output_type": "stream",
     "text": [
      "[LightGBM] [Warning] early_stopping_round is set=20, early_stopping_rounds=20 will be ignored. Current value: early_stopping_round=20\n"
     ]
    },
    {
     "name": "stderr",
     "output_type": "stream",
     "text": [
      "\u001b[32m[I 2021-11-10 18:31:24,174]\u001b[0m Trial 12 finished with value: 0.3889 and parameters: {'num_leaves': 24, 'max_depth': 7, 'scale_pos_weight': 3.0}. Best is trial 6 with value: 0.5333.\u001b[0m\n"
     ]
    },
    {
     "name": "stdout",
     "output_type": "stream",
     "text": [
      "[LightGBM] [Warning] early_stopping_round is set=20, early_stopping_rounds=20 will be ignored. Current value: early_stopping_round=20\n"
     ]
    },
    {
     "name": "stderr",
     "output_type": "stream",
     "text": [
      "\u001b[32m[I 2021-11-10 18:31:57,937]\u001b[0m Trial 13 finished with value: 0.0 and parameters: {'num_leaves': 16, 'max_depth': 7, 'scale_pos_weight': 4.6}. Best is trial 6 with value: 0.5333.\u001b[0m\n"
     ]
    },
    {
     "name": "stdout",
     "output_type": "stream",
     "text": [
      "[LightGBM] [Warning] early_stopping_round is set=20, early_stopping_rounds=20 will be ignored. Current value: early_stopping_round=20\n"
     ]
    },
    {
     "name": "stderr",
     "output_type": "stream",
     "text": [
      "\u001b[32m[I 2021-11-10 18:33:27,090]\u001b[0m Trial 14 finished with value: 0.45 and parameters: {'num_leaves': 26, 'max_depth': 8, 'scale_pos_weight': 2.8}. Best is trial 6 with value: 0.5333.\u001b[0m\n"
     ]
    },
    {
     "name": "stdout",
     "output_type": "stream",
     "text": [
      "[LightGBM] [Warning] early_stopping_round is set=20, early_stopping_rounds=20 will be ignored. Current value: early_stopping_round=20\n"
     ]
    },
    {
     "name": "stderr",
     "output_type": "stream",
     "text": [
      "\u001b[32m[I 2021-11-10 18:34:07,402]\u001b[0m Trial 15 finished with value: 0.0 and parameters: {'num_leaves': 18, 'max_depth': 8, 'scale_pos_weight': 4.4}. Best is trial 6 with value: 0.5333.\u001b[0m\n"
     ]
    },
    {
     "name": "stdout",
     "output_type": "stream",
     "text": [
      "[LightGBM] [Warning] early_stopping_round is set=20, early_stopping_rounds=20 will be ignored. Current value: early_stopping_round=20\n"
     ]
    },
    {
     "name": "stderr",
     "output_type": "stream",
     "text": [
      "\u001b[32m[I 2021-11-10 18:35:39,772]\u001b[0m Trial 16 finished with value: 0.5455 and parameters: {'num_leaves': 22, 'max_depth': 6, 'scale_pos_weight': 2.6}. Best is trial 16 with value: 0.5455.\u001b[0m\n"
     ]
    },
    {
     "name": "stdout",
     "output_type": "stream",
     "text": [
      "[LightGBM] [Warning] early_stopping_round is set=20, early_stopping_rounds=20 will be ignored. Current value: early_stopping_round=20\n"
     ]
    },
    {
     "name": "stderr",
     "output_type": "stream",
     "text": [
      "\u001b[32m[I 2021-11-10 18:36:32,378]\u001b[0m Trial 17 finished with value: 0.1333 and parameters: {'num_leaves': 22, 'max_depth': 6, 'scale_pos_weight': 3.6}. Best is trial 16 with value: 0.5455.\u001b[0m\n"
     ]
    },
    {
     "name": "stdout",
     "output_type": "stream",
     "text": [
      "[LightGBM] [Warning] early_stopping_round is set=20, early_stopping_rounds=20 will be ignored. Current value: early_stopping_round=20\n"
     ]
    },
    {
     "name": "stderr",
     "output_type": "stream",
     "text": [
      "\u001b[32m[I 2021-11-10 18:38:36,375]\u001b[0m Trial 18 finished with value: 0.4878 and parameters: {'num_leaves': 30, 'max_depth': 12, 'scale_pos_weight': 2.6}. Best is trial 16 with value: 0.5455.\u001b[0m\n"
     ]
    },
    {
     "name": "stdout",
     "output_type": "stream",
     "text": [
      "[LightGBM] [Warning] early_stopping_round is set=20, early_stopping_rounds=20 will be ignored. Current value: early_stopping_round=20\n"
     ]
    },
    {
     "name": "stderr",
     "output_type": "stream",
     "text": [
      "\u001b[32m[I 2021-11-10 18:39:33,729]\u001b[0m Trial 19 finished with value: 0.0 and parameters: {'num_leaves': 26, 'max_depth': 6, 'scale_pos_weight': 4.2}. Best is trial 16 with value: 0.5455.\u001b[0m\n"
     ]
    },
    {
     "name": "stdout",
     "output_type": "stream",
     "text": [
      "[LightGBM] [Warning] early_stopping_round is set=20, early_stopping_rounds=20 will be ignored. Current value: early_stopping_round=20\n"
     ]
    },
    {
     "name": "stderr",
     "output_type": "stream",
     "text": [
      "\u001b[32m[I 2021-11-10 18:40:18,721]\u001b[0m Trial 20 finished with value: 0.0 and parameters: {'num_leaves': 22, 'max_depth': 8, 'scale_pos_weight': 4.800000000000001}. Best is trial 16 with value: 0.5455.\u001b[0m\n"
     ]
    },
    {
     "name": "stdout",
     "output_type": "stream",
     "text": [
      "[LightGBM] [Warning] early_stopping_round is set=20, early_stopping_rounds=20 will be ignored. Current value: early_stopping_round=20\n"
     ]
    },
    {
     "name": "stderr",
     "output_type": "stream",
     "text": [
      "\u001b[32m[I 2021-11-10 18:41:42,726]\u001b[0m Trial 21 finished with value: 0.549 and parameters: {'num_leaves': 10, 'max_depth': 7, 'scale_pos_weight': 2.6}. Best is trial 21 with value: 0.549.\u001b[0m\n"
     ]
    },
    {
     "name": "stdout",
     "output_type": "stream",
     "text": [
      "[LightGBM] [Warning] early_stopping_round is set=20, early_stopping_rounds=20 will be ignored. Current value: early_stopping_round=20\n"
     ]
    },
    {
     "name": "stderr",
     "output_type": "stream",
     "text": [
      "\u001b[32m[I 2021-11-10 18:42:37,958]\u001b[0m Trial 22 finished with value: 0.2941 and parameters: {'num_leaves': 20, 'max_depth': 7, 'scale_pos_weight': 3.2}. Best is trial 21 with value: 0.549.\u001b[0m\n"
     ]
    },
    {
     "name": "stdout",
     "output_type": "stream",
     "text": [
      "[LightGBM] [Warning] early_stopping_round is set=20, early_stopping_rounds=20 will be ignored. Current value: early_stopping_round=20\n"
     ]
    },
    {
     "name": "stderr",
     "output_type": "stream",
     "text": [
      "\u001b[32m[I 2021-11-10 18:44:15,777]\u001b[0m Trial 23 finished with value: 0.5455 and parameters: {'num_leaves': 26, 'max_depth': 6, 'scale_pos_weight': 2.6}. Best is trial 21 with value: 0.549.\u001b[0m\n"
     ]
    },
    {
     "name": "stdout",
     "output_type": "stream",
     "text": [
      "[LightGBM] [Warning] early_stopping_round is set=20, early_stopping_rounds=20 will be ignored. Current value: early_stopping_round=20\n"
     ]
    },
    {
     "name": "stderr",
     "output_type": "stream",
     "text": [
      "\u001b[32m[I 2021-11-10 18:46:15,853]\u001b[0m Trial 24 finished with value: 0.5652 and parameters: {'num_leaves': 28, 'max_depth': 6, 'scale_pos_weight': 2.6}. Best is trial 24 with value: 0.5652.\u001b[0m\n"
     ]
    },
    {
     "name": "stdout",
     "output_type": "stream",
     "text": [
      "[LightGBM] [Warning] early_stopping_round is set=20, early_stopping_rounds=20 will be ignored. Current value: early_stopping_round=20\n"
     ]
    },
    {
     "name": "stderr",
     "output_type": "stream",
     "text": [
      "\u001b[32m[I 2021-11-10 18:47:25,249]\u001b[0m Trial 25 finished with value: 0.3889 and parameters: {'num_leaves': 28, 'max_depth': 6, 'scale_pos_weight': 3.4000000000000004}. Best is trial 24 with value: 0.5652.\u001b[0m\n"
     ]
    },
    {
     "name": "stdout",
     "output_type": "stream",
     "text": [
      "[LightGBM] [Warning] early_stopping_round is set=20, early_stopping_rounds=20 will be ignored. Current value: early_stopping_round=20\n"
     ]
    },
    {
     "name": "stderr",
     "output_type": "stream",
     "text": [
      "\u001b[32m[I 2021-11-10 18:48:25,604]\u001b[0m Trial 26 finished with value: 0.0714 and parameters: {'num_leaves': 28, 'max_depth': 6, 'scale_pos_weight': 4.0}. Best is trial 24 with value: 0.5652.\u001b[0m\n"
     ]
    },
    {
     "name": "stdout",
     "output_type": "stream",
     "text": [
      "[LightGBM] [Warning] early_stopping_round is set=20, early_stopping_rounds=20 will be ignored. Current value: early_stopping_round=20\n"
     ]
    },
    {
     "name": "stderr",
     "output_type": "stream",
     "text": [
      "\u001b[32m[I 2021-11-10 18:49:28,476]\u001b[0m Trial 27 finished with value: 0.45 and parameters: {'num_leaves': 14, 'max_depth': 7, 'scale_pos_weight': 2.6}. Best is trial 24 with value: 0.5652.\u001b[0m\n"
     ]
    },
    {
     "name": "stdout",
     "output_type": "stream",
     "text": [
      "[LightGBM] [Warning] early_stopping_round is set=20, early_stopping_rounds=20 will be ignored. Current value: early_stopping_round=20\n"
     ]
    },
    {
     "name": "stderr",
     "output_type": "stream",
     "text": [
      "\u001b[32m[I 2021-11-10 18:51:32,037]\u001b[0m Trial 28 finished with value: 0.5909 and parameters: {'num_leaves': 30, 'max_depth': 8, 'scale_pos_weight': 3.0}. Best is trial 28 with value: 0.5909.\u001b[0m\n"
     ]
    },
    {
     "name": "stdout",
     "output_type": "stream",
     "text": [
      "[LightGBM] [Warning] early_stopping_round is set=20, early_stopping_rounds=20 will be ignored. Current value: early_stopping_round=20\n"
     ]
    },
    {
     "name": "stderr",
     "output_type": "stream",
     "text": [
      "\u001b[32m[I 2021-11-10 18:53:52,863]\u001b[0m Trial 29 finished with value: 0.5455 and parameters: {'num_leaves': 30, 'max_depth': 8, 'scale_pos_weight': 2.0}. Best is trial 28 with value: 0.5909.\u001b[0m\n"
     ]
    },
    {
     "name": "stdout",
     "output_type": "stream",
     "text": [
      "[LightGBM] [Warning] early_stopping_round is set=20, early_stopping_rounds=20 will be ignored. Current value: early_stopping_round=20\n"
     ]
    },
    {
     "name": "stderr",
     "output_type": "stream",
     "text": [
      "\u001b[32m[I 2021-11-10 18:56:15,011]\u001b[0m Trial 30 finished with value: 0.5532 and parameters: {'num_leaves': 28, 'max_depth': 11, 'scale_pos_weight': 3.0}. Best is trial 28 with value: 0.5909.\u001b[0m\n"
     ]
    },
    {
     "name": "stdout",
     "output_type": "stream",
     "text": [
      "[LightGBM] [Warning] early_stopping_round is set=20, early_stopping_rounds=20 will be ignored. Current value: early_stopping_round=20\n"
     ]
    },
    {
     "name": "stderr",
     "output_type": "stream",
     "text": [
      "\u001b[32m[I 2021-11-10 18:58:34,295]\u001b[0m Trial 31 finished with value: 0.5532 and parameters: {'num_leaves': 28, 'max_depth': 11, 'scale_pos_weight': 3.0}. Best is trial 28 with value: 0.5909.\u001b[0m\n"
     ]
    },
    {
     "name": "stdout",
     "output_type": "stream",
     "text": [
      "[LightGBM] [Warning] early_stopping_round is set=20, early_stopping_rounds=20 will be ignored. Current value: early_stopping_round=20\n"
     ]
    },
    {
     "name": "stderr",
     "output_type": "stream",
     "text": [
      "\u001b[32m[I 2021-11-10 19:00:57,830]\u001b[0m Trial 32 finished with value: 0.5532 and parameters: {'num_leaves': 28, 'max_depth': 11, 'scale_pos_weight': 3.0}. Best is trial 28 with value: 0.5909.\u001b[0m\n"
     ]
    },
    {
     "name": "stdout",
     "output_type": "stream",
     "text": [
      "[LightGBM] [Warning] early_stopping_round is set=20, early_stopping_rounds=20 will be ignored. Current value: early_stopping_round=20\n"
     ]
    },
    {
     "name": "stderr",
     "output_type": "stream",
     "text": [
      "\u001b[32m[I 2021-11-10 19:02:27,547]\u001b[0m Trial 33 finished with value: 0.3889 and parameters: {'num_leaves': 30, 'max_depth': 11, 'scale_pos_weight': 3.4000000000000004}. Best is trial 28 with value: 0.5909.\u001b[0m\n"
     ]
    },
    {
     "name": "stdout",
     "output_type": "stream",
     "text": [
      "[LightGBM] [Warning] early_stopping_round is set=20, early_stopping_rounds=20 will be ignored. Current value: early_stopping_round=20\n"
     ]
    },
    {
     "name": "stderr",
     "output_type": "stream",
     "text": [
      "\u001b[32m[I 2021-11-10 19:03:34,455]\u001b[0m Trial 34 finished with value: 0.0 and parameters: {'num_leaves': 28, 'max_depth': 11, 'scale_pos_weight': 3.8}. Best is trial 28 with value: 0.5909.\u001b[0m\n"
     ]
    },
    {
     "name": "stdout",
     "output_type": "stream",
     "text": [
      "[LightGBM] [Warning] early_stopping_round is set=20, early_stopping_rounds=20 will be ignored. Current value: early_stopping_round=20\n"
     ]
    },
    {
     "name": "stderr",
     "output_type": "stream",
     "text": [
      "\u001b[32m[I 2021-11-10 19:04:57,878]\u001b[0m Trial 35 finished with value: 0.4324 and parameters: {'num_leaves': 28, 'max_depth': 11, 'scale_pos_weight': 3.2}. Best is trial 28 with value: 0.5909.\u001b[0m\n"
     ]
    },
    {
     "name": "stdout",
     "output_type": "stream",
     "text": [
      "[LightGBM] [Warning] early_stopping_round is set=20, early_stopping_rounds=20 will be ignored. Current value: early_stopping_round=20\n"
     ]
    },
    {
     "name": "stderr",
     "output_type": "stream",
     "text": [
      "\u001b[32m[I 2021-11-10 19:06:57,745]\u001b[0m Trial 36 finished with value: 0.4878 and parameters: {'num_leaves': 30, 'max_depth': 10, 'scale_pos_weight': 2.4}. Best is trial 28 with value: 0.5909.\u001b[0m\n"
     ]
    },
    {
     "name": "stdout",
     "output_type": "stream",
     "text": [
      "[LightGBM] [Warning] early_stopping_round is set=20, early_stopping_rounds=20 will be ignored. Current value: early_stopping_round=20\n"
     ]
    },
    {
     "name": "stderr",
     "output_type": "stream",
     "text": [
      "\u001b[32m[I 2021-11-10 19:08:14,781]\u001b[0m Trial 37 finished with value: 0.3889 and parameters: {'num_leaves': 24, 'max_depth': 9, 'scale_pos_weight': 3.0}. Best is trial 28 with value: 0.5909.\u001b[0m\n"
     ]
    },
    {
     "name": "stdout",
     "output_type": "stream",
     "text": [
      "[LightGBM] [Warning] early_stopping_round is set=20, early_stopping_rounds=20 will be ignored. Current value: early_stopping_round=20\n"
     ]
    },
    {
     "name": "stderr",
     "output_type": "stream",
     "text": [
      "\u001b[32m[I 2021-11-10 19:09:24,554]\u001b[0m Trial 38 finished with value: 0.3429 and parameters: {'num_leaves': 26, 'max_depth': 12, 'scale_pos_weight': 3.6}. Best is trial 28 with value: 0.5909.\u001b[0m\n"
     ]
    },
    {
     "name": "stdout",
     "output_type": "stream",
     "text": [
      "[LightGBM] [Warning] early_stopping_round is set=20, early_stopping_rounds=20 will be ignored. Current value: early_stopping_round=20\n"
     ]
    },
    {
     "name": "stderr",
     "output_type": "stream",
     "text": [
      "\u001b[32m[I 2021-11-10 19:12:05,232]\u001b[0m Trial 39 finished with value: 0.5652 and parameters: {'num_leaves': 28, 'max_depth': 9, 'scale_pos_weight': 2.0}. Best is trial 28 with value: 0.5909.\u001b[0m\n"
     ]
    },
    {
     "name": "stdout",
     "output_type": "stream",
     "text": [
      "[LightGBM] [Warning] early_stopping_round is set=20, early_stopping_rounds=20 will be ignored. Current value: early_stopping_round=20\n"
     ]
    },
    {
     "name": "stderr",
     "output_type": "stream",
     "text": [
      "\u001b[32m[I 2021-11-10 19:14:35,386]\u001b[0m Trial 40 finished with value: 0.5455 and parameters: {'num_leaves': 30, 'max_depth': 9, 'scale_pos_weight': 2.0}. Best is trial 28 with value: 0.5909.\u001b[0m\n"
     ]
    },
    {
     "name": "stdout",
     "output_type": "stream",
     "text": [
      "[LightGBM] [Warning] early_stopping_round is set=20, early_stopping_rounds=20 will be ignored. Current value: early_stopping_round=20\n"
     ]
    },
    {
     "name": "stderr",
     "output_type": "stream",
     "text": [
      "\u001b[32m[I 2021-11-10 19:16:18,914]\u001b[0m Trial 41 finished with value: 0.45 and parameters: {'num_leaves': 28, 'max_depth': 10, 'scale_pos_weight': 2.4}. Best is trial 28 with value: 0.5909.\u001b[0m\n"
     ]
    },
    {
     "name": "stdout",
     "output_type": "stream",
     "text": [
      "[LightGBM] [Warning] early_stopping_round is set=20, early_stopping_rounds=20 will be ignored. Current value: early_stopping_round=20\n"
     ]
    },
    {
     "name": "stderr",
     "output_type": "stream",
     "text": [
      "\u001b[32m[I 2021-11-10 19:17:30,989]\u001b[0m Trial 42 finished with value: 0.3429 and parameters: {'num_leaves': 26, 'max_depth': 10, 'scale_pos_weight': 2.4}. Best is trial 28 with value: 0.5909.\u001b[0m\n"
     ]
    },
    {
     "name": "stdout",
     "output_type": "stream",
     "text": [
      "[LightGBM] [Warning] early_stopping_round is set=20, early_stopping_rounds=20 will be ignored. Current value: early_stopping_round=20\n"
     ]
    },
    {
     "name": "stderr",
     "output_type": "stream",
     "text": [
      "\u001b[32m[I 2021-11-10 19:19:36,356]\u001b[0m Trial 43 finished with value: 0.5532 and parameters: {'num_leaves': 28, 'max_depth': 9, 'scale_pos_weight': 2.8}. Best is trial 28 with value: 0.5909.\u001b[0m\n"
     ]
    },
    {
     "name": "stdout",
     "output_type": "stream",
     "text": [
      "[LightGBM] [Warning] early_stopping_round is set=20, early_stopping_rounds=20 will be ignored. Current value: early_stopping_round=20\n"
     ]
    },
    {
     "name": "stderr",
     "output_type": "stream",
     "text": [
      "\u001b[32m[I 2021-11-10 19:21:41,777]\u001b[0m Trial 44 finished with value: 0.4889 and parameters: {'num_leaves': 30, 'max_depth': 9, 'scale_pos_weight': 2.2}. Best is trial 28 with value: 0.5909.\u001b[0m\n"
     ]
    },
    {
     "name": "stdout",
     "output_type": "stream",
     "text": [
      "[LightGBM] [Warning] early_stopping_round is set=20, early_stopping_rounds=20 will be ignored. Current value: early_stopping_round=20\n"
     ]
    },
    {
     "name": "stderr",
     "output_type": "stream",
     "text": [
      "\u001b[32m[I 2021-11-10 19:24:00,396]\u001b[0m Trial 45 finished with value: 0.5769 and parameters: {'num_leaves': 24, 'max_depth': 9, 'scale_pos_weight': 2.8}. Best is trial 28 with value: 0.5909.\u001b[0m\n"
     ]
    },
    {
     "name": "stdout",
     "output_type": "stream",
     "text": [
      "[LightGBM] [Warning] early_stopping_round is set=20, early_stopping_rounds=20 will be ignored. Current value: early_stopping_round=20\n"
     ]
    },
    {
     "name": "stderr",
     "output_type": "stream",
     "text": [
      "\u001b[32m[I 2021-11-10 19:26:22,470]\u001b[0m Trial 46 finished with value: 0.5769 and parameters: {'num_leaves': 24, 'max_depth': 9, 'scale_pos_weight': 2.8}. Best is trial 28 with value: 0.5909.\u001b[0m\n"
     ]
    },
    {
     "name": "stdout",
     "output_type": "stream",
     "text": [
      "[LightGBM] [Warning] early_stopping_round is set=20, early_stopping_rounds=20 will be ignored. Current value: early_stopping_round=20\n"
     ]
    },
    {
     "name": "stderr",
     "output_type": "stream",
     "text": [
      "\u001b[32m[I 2021-11-10 19:28:01,776]\u001b[0m Trial 47 finished with value: 0.5116 and parameters: {'num_leaves': 20, 'max_depth': 9, 'scale_pos_weight': 2.0}. Best is trial 28 with value: 0.5909.\u001b[0m\n"
     ]
    },
    {
     "name": "stdout",
     "output_type": "stream",
     "text": [
      "[LightGBM] [Warning] early_stopping_round is set=20, early_stopping_rounds=20 will be ignored. Current value: early_stopping_round=20\n"
     ]
    },
    {
     "name": "stderr",
     "output_type": "stream",
     "text": [
      "\u001b[32m[I 2021-11-10 19:30:23,607]\u001b[0m Trial 48 finished with value: 0.5769 and parameters: {'num_leaves': 24, 'max_depth': 9, 'scale_pos_weight': 2.8}. Best is trial 28 with value: 0.5909.\u001b[0m\n"
     ]
    },
    {
     "name": "stdout",
     "output_type": "stream",
     "text": [
      "[LightGBM] [Warning] early_stopping_round is set=20, early_stopping_rounds=20 will be ignored. Current value: early_stopping_round=20\n"
     ]
    },
    {
     "name": "stderr",
     "output_type": "stream",
     "text": [
      "\u001b[32m[I 2021-11-10 19:31:08,259]\u001b[0m Trial 49 finished with value: 0.0 and parameters: {'num_leaves': 24, 'max_depth': 9, 'scale_pos_weight': 6.0}. Best is trial 28 with value: 0.5909.\u001b[0m\n"
     ]
    },
    {
     "name": "stdout",
     "output_type": "stream",
     "text": [
      "[LightGBM] [Warning] early_stopping_round is set=20, early_stopping_rounds=20 will be ignored. Current value: early_stopping_round=20\n"
     ]
    },
    {
     "name": "stderr",
     "output_type": "stream",
     "text": [
      "\u001b[32m[I 2021-11-10 19:32:52,952]\u001b[0m Trial 50 finished with value: 0.5417 and parameters: {'num_leaves': 22, 'max_depth': 8, 'scale_pos_weight': 2.8}. Best is trial 28 with value: 0.5909.\u001b[0m\n"
     ]
    },
    {
     "name": "stdout",
     "output_type": "stream",
     "text": [
      "[LightGBM] [Warning] early_stopping_round is set=20, early_stopping_rounds=20 will be ignored. Current value: early_stopping_round=20\n"
     ]
    },
    {
     "name": "stderr",
     "output_type": "stream",
     "text": [
      "\u001b[32m[I 2021-11-10 19:34:24,440]\u001b[0m Trial 51 finished with value: 0.5532 and parameters: {'num_leaves': 18, 'max_depth': 10, 'scale_pos_weight': 2.4}. Best is trial 28 with value: 0.5909.\u001b[0m\n"
     ]
    },
    {
     "name": "stdout",
     "output_type": "stream",
     "text": [
      "[LightGBM] [Warning] early_stopping_round is set=20, early_stopping_rounds=20 will be ignored. Current value: early_stopping_round=20\n"
     ]
    },
    {
     "name": "stderr",
     "output_type": "stream",
     "text": [
      "\u001b[32m[I 2021-11-10 19:35:21,618]\u001b[0m Trial 52 finished with value: 0.0 and parameters: {'num_leaves': 24, 'max_depth': 9, 'scale_pos_weight': 3.2}. Best is trial 28 with value: 0.5909.\u001b[0m\n"
     ]
    },
    {
     "name": "stdout",
     "output_type": "stream",
     "text": [
      "[LightGBM] [Warning] early_stopping_round is set=20, early_stopping_rounds=20 will be ignored. Current value: early_stopping_round=20\n"
     ]
    },
    {
     "name": "stderr",
     "output_type": "stream",
     "text": [
      "\u001b[32m[I 2021-11-10 19:37:02,574]\u001b[0m Trial 53 finished with value: 0.5417 and parameters: {'num_leaves': 22, 'max_depth': 8, 'scale_pos_weight': 2.8}. Best is trial 28 with value: 0.5909.\u001b[0m\n"
     ]
    },
    {
     "name": "stdout",
     "output_type": "stream",
     "text": [
      "[LightGBM] [Warning] early_stopping_round is set=20, early_stopping_rounds=20 will be ignored. Current value: early_stopping_round=20\n"
     ]
    },
    {
     "name": "stderr",
     "output_type": "stream",
     "text": [
      "\u001b[32m[I 2021-11-10 19:38:57,917]\u001b[0m Trial 54 finished with value: 0.5581 and parameters: {'num_leaves': 26, 'max_depth': 10, 'scale_pos_weight': 2.2}. Best is trial 28 with value: 0.5909.\u001b[0m\n"
     ]
    },
    {
     "name": "stdout",
     "output_type": "stream",
     "text": [
      "[LightGBM] [Warning] early_stopping_round is set=20, early_stopping_rounds=20 will be ignored. Current value: early_stopping_round=20\n"
     ]
    },
    {
     "name": "stderr",
     "output_type": "stream",
     "text": [
      "\u001b[32m[I 2021-11-10 19:39:58,894]\u001b[0m Trial 55 finished with value: 0.2424 and parameters: {'num_leaves': 24, 'max_depth': 8, 'scale_pos_weight': 5.2}. Best is trial 28 with value: 0.5909.\u001b[0m\n"
     ]
    },
    {
     "name": "stdout",
     "output_type": "stream",
     "text": [
      "[LightGBM] [Warning] early_stopping_round is set=20, early_stopping_rounds=20 will be ignored. Current value: early_stopping_round=20\n"
     ]
    },
    {
     "name": "stderr",
     "output_type": "stream",
     "text": [
      "\u001b[32m[I 2021-11-10 19:42:27,691]\u001b[0m Trial 56 finished with value: 0.5532 and parameters: {'num_leaves': 26, 'max_depth': 9, 'scale_pos_weight': 2.2}. Best is trial 28 with value: 0.5909.\u001b[0m\n"
     ]
    },
    {
     "name": "stdout",
     "output_type": "stream",
     "text": [
      "[LightGBM] [Warning] early_stopping_round is set=20, early_stopping_rounds=20 will be ignored. Current value: early_stopping_round=20\n"
     ]
    },
    {
     "name": "stderr",
     "output_type": "stream",
     "text": [
      "\u001b[32m[I 2021-11-10 19:44:11,224]\u001b[0m Trial 57 finished with value: 0.5417 and parameters: {'num_leaves': 18, 'max_depth': 8, 'scale_pos_weight': 2.4}. Best is trial 28 with value: 0.5909.\u001b[0m\n"
     ]
    },
    {
     "name": "stdout",
     "output_type": "stream",
     "text": [
      "[LightGBM] [Warning] early_stopping_round is set=20, early_stopping_rounds=20 will be ignored. Current value: early_stopping_round=20\n"
     ]
    },
    {
     "name": "stderr",
     "output_type": "stream",
     "text": [
      "\u001b[32m[I 2021-11-10 19:46:34,119]\u001b[0m Trial 58 finished with value: 0.5769 and parameters: {'num_leaves': 24, 'max_depth': 9, 'scale_pos_weight': 2.8}. Best is trial 28 with value: 0.5909.\u001b[0m\n"
     ]
    },
    {
     "name": "stdout",
     "output_type": "stream",
     "text": [
      "[LightGBM] [Warning] early_stopping_round is set=20, early_stopping_rounds=20 will be ignored. Current value: early_stopping_round=20\n"
     ]
    },
    {
     "name": "stderr",
     "output_type": "stream",
     "text": [
      "\u001b[32m[I 2021-11-10 19:47:43,935]\u001b[0m Trial 59 finished with value: 0.3889 and parameters: {'num_leaves': 22, 'max_depth': 9, 'scale_pos_weight': 3.2}. Best is trial 28 with value: 0.5909.\u001b[0m\n"
     ]
    },
    {
     "name": "stdout",
     "output_type": "stream",
     "text": [
      "[LightGBM] [Warning] early_stopping_round is set=20, early_stopping_rounds=20 will be ignored. Current value: early_stopping_round=20\n"
     ]
    },
    {
     "name": "stderr",
     "output_type": "stream",
     "text": [
      "\u001b[32m[I 2021-11-10 19:50:08,220]\u001b[0m Trial 60 finished with value: 0.5882 and parameters: {'num_leaves': 24, 'max_depth': 10, 'scale_pos_weight': 2.8}. Best is trial 28 with value: 0.5909.\u001b[0m\n"
     ]
    },
    {
     "name": "stdout",
     "output_type": "stream",
     "text": [
      "[LightGBM] [Warning] early_stopping_round is set=20, early_stopping_rounds=20 will be ignored. Current value: early_stopping_round=20\n"
     ]
    },
    {
     "name": "stderr",
     "output_type": "stream",
     "text": [
      "\u001b[32m[I 2021-11-10 19:51:12,602]\u001b[0m Trial 61 finished with value: 0.3889 and parameters: {'num_leaves': 20, 'max_depth': 9, 'scale_pos_weight': 2.8}. Best is trial 28 with value: 0.5909.\u001b[0m\n"
     ]
    },
    {
     "name": "stdout",
     "output_type": "stream",
     "text": [
      "[LightGBM] [Warning] early_stopping_round is set=20, early_stopping_rounds=20 will be ignored. Current value: early_stopping_round=20\n"
     ]
    },
    {
     "name": "stderr",
     "output_type": "stream",
     "text": [
      "\u001b[32m[I 2021-11-10 19:52:25,421]\u001b[0m Trial 62 finished with value: 0.3889 and parameters: {'num_leaves': 24, 'max_depth': 10, 'scale_pos_weight': 2.6}. Best is trial 28 with value: 0.5909.\u001b[0m\n"
     ]
    },
    {
     "name": "stdout",
     "output_type": "stream",
     "text": [
      "[LightGBM] [Warning] early_stopping_round is set=20, early_stopping_rounds=20 will be ignored. Current value: early_stopping_round=20\n"
     ]
    },
    {
     "name": "stderr",
     "output_type": "stream",
     "text": [
      "\u001b[32m[I 2021-11-10 19:53:31,802]\u001b[0m Trial 63 finished with value: 0.3889 and parameters: {'num_leaves': 22, 'max_depth': 10, 'scale_pos_weight': 3.4000000000000004}. Best is trial 28 with value: 0.5909.\u001b[0m\n"
     ]
    },
    {
     "name": "stdout",
     "output_type": "stream",
     "text": [
      "[LightGBM] [Warning] early_stopping_round is set=20, early_stopping_rounds=20 will be ignored. Current value: early_stopping_round=20\n"
     ]
    },
    {
     "name": "stderr",
     "output_type": "stream",
     "text": [
      "\u001b[32m[I 2021-11-10 19:54:33,776]\u001b[0m Trial 64 finished with value: 0.1935 and parameters: {'num_leaves': 24, 'max_depth': 9, 'scale_pos_weight': 3.6}. Best is trial 28 with value: 0.5909.\u001b[0m\n"
     ]
    },
    {
     "name": "stdout",
     "output_type": "stream",
     "text": [
      "[LightGBM] [Warning] early_stopping_round is set=20, early_stopping_rounds=20 will be ignored. Current value: early_stopping_round=20\n"
     ]
    },
    {
     "name": "stderr",
     "output_type": "stream",
     "text": [
      "\u001b[32m[I 2021-11-10 19:56:12,149]\u001b[0m Trial 65 finished with value: 0.45 and parameters: {'num_leaves': 26, 'max_depth': 9, 'scale_pos_weight': 2.8}. Best is trial 28 with value: 0.5909.\u001b[0m\n"
     ]
    },
    {
     "name": "stdout",
     "output_type": "stream",
     "text": [
      "[LightGBM] [Warning] early_stopping_round is set=20, early_stopping_rounds=20 will be ignored. Current value: early_stopping_round=20\n"
     ]
    },
    {
     "name": "stderr",
     "output_type": "stream",
     "text": [
      "\u001b[32m[I 2021-11-10 19:57:32,094]\u001b[0m Trial 66 finished with value: 0.4324 and parameters: {'num_leaves': 24, 'max_depth': 8, 'scale_pos_weight': 3.2}. Best is trial 28 with value: 0.5909.\u001b[0m\n"
     ]
    },
    {
     "name": "stdout",
     "output_type": "stream",
     "text": [
      "[LightGBM] [Warning] early_stopping_round is set=20, early_stopping_rounds=20 will be ignored. Current value: early_stopping_round=20\n"
     ]
    },
    {
     "name": "stderr",
     "output_type": "stream",
     "text": [
      "\u001b[32m[I 2021-11-10 19:58:38,134]\u001b[0m Trial 67 finished with value: 0.3889 and parameters: {'num_leaves': 22, 'max_depth': 10, 'scale_pos_weight': 3.0}. Best is trial 28 with value: 0.5909.\u001b[0m\n"
     ]
    },
    {
     "name": "stdout",
     "output_type": "stream",
     "text": [
      "[LightGBM] [Warning] early_stopping_round is set=20, early_stopping_rounds=20 will be ignored. Current value: early_stopping_round=20\n"
     ]
    },
    {
     "name": "stderr",
     "output_type": "stream",
     "text": [
      "\u001b[32m[I 2021-11-10 20:00:08,643]\u001b[0m Trial 68 finished with value: 0.45 and parameters: {'num_leaves': 26, 'max_depth': 8, 'scale_pos_weight': 2.8}. Best is trial 28 with value: 0.5909.\u001b[0m\n"
     ]
    },
    {
     "name": "stdout",
     "output_type": "stream",
     "text": [
      "[LightGBM] [Warning] early_stopping_round is set=20, early_stopping_rounds=20 will be ignored. Current value: early_stopping_round=20\n"
     ]
    },
    {
     "name": "stderr",
     "output_type": "stream",
     "text": [
      "\u001b[32m[I 2021-11-10 20:02:00,038]\u001b[0m Trial 69 finished with value: 0.5116 and parameters: {'num_leaves': 26, 'max_depth': 9, 'scale_pos_weight': 2.6}. Best is trial 28 with value: 0.5909.\u001b[0m\n"
     ]
    },
    {
     "name": "stdout",
     "output_type": "stream",
     "text": [
      "[LightGBM] [Warning] early_stopping_round is set=20, early_stopping_rounds=20 will be ignored. Current value: early_stopping_round=20\n"
     ]
    },
    {
     "name": "stderr",
     "output_type": "stream",
     "text": [
      "\u001b[32m[I 2021-11-10 20:02:54,087]\u001b[0m Trial 70 finished with value: 0.0 and parameters: {'num_leaves': 24, 'max_depth': 9, 'scale_pos_weight': 4.2}. Best is trial 28 with value: 0.5909.\u001b[0m\n"
     ]
    },
    {
     "name": "stdout",
     "output_type": "stream",
     "text": [
      "[LightGBM] [Warning] early_stopping_round is set=20, early_stopping_rounds=20 will be ignored. Current value: early_stopping_round=20\n"
     ]
    },
    {
     "name": "stderr",
     "output_type": "stream",
     "text": [
      "\u001b[32m[I 2021-11-10 20:04:29,827]\u001b[0m Trial 71 finished with value: 0.4324 and parameters: {'num_leaves': 30, 'max_depth': 7, 'scale_pos_weight': 2.4}. Best is trial 28 with value: 0.5909.\u001b[0m\n"
     ]
    },
    {
     "name": "stdout",
     "output_type": "stream",
     "text": [
      "[LightGBM] [Warning] early_stopping_round is set=20, early_stopping_rounds=20 will be ignored. Current value: early_stopping_round=20\n"
     ]
    },
    {
     "name": "stderr",
     "output_type": "stream",
     "text": [
      "\u001b[32m[I 2021-11-10 20:05:37,846]\u001b[0m Trial 72 finished with value: 0.3889 and parameters: {'num_leaves': 24, 'max_depth': 10, 'scale_pos_weight': 2.6}. Best is trial 28 with value: 0.5909.\u001b[0m\n"
     ]
    },
    {
     "name": "stdout",
     "output_type": "stream",
     "text": [
      "[LightGBM] [Warning] early_stopping_round is set=20, early_stopping_rounds=20 will be ignored. Current value: early_stopping_round=20\n"
     ]
    },
    {
     "name": "stderr",
     "output_type": "stream",
     "text": [
      "\u001b[32m[I 2021-11-10 20:07:56,787]\u001b[0m Trial 73 finished with value: 0.5306 and parameters: {'num_leaves': 26, 'max_depth': 8, 'scale_pos_weight': 3.0}. Best is trial 28 with value: 0.5909.\u001b[0m\n"
     ]
    },
    {
     "name": "stdout",
     "output_type": "stream",
     "text": [
      "[LightGBM] [Warning] early_stopping_round is set=20, early_stopping_rounds=20 will be ignored. Current value: early_stopping_round=20\n"
     ]
    },
    {
     "name": "stderr",
     "output_type": "stream",
     "text": [
      "\u001b[32m[I 2021-11-10 20:10:07,514]\u001b[0m Trial 74 finished with value: 0.6087 and parameters: {'num_leaves': 30, 'max_depth': 9, 'scale_pos_weight': 2.8}. Best is trial 74 with value: 0.6087.\u001b[0m\n"
     ]
    },
    {
     "name": "stdout",
     "output_type": "stream",
     "text": [
      "[LightGBM] [Warning] early_stopping_round is set=20, early_stopping_rounds=20 will be ignored. Current value: early_stopping_round=20\n"
     ]
    },
    {
     "name": "stderr",
     "output_type": "stream",
     "text": [
      "\u001b[32m[I 2021-11-10 20:12:14,119]\u001b[0m Trial 75 finished with value: 0.5532 and parameters: {'num_leaves': 30, 'max_depth': 9, 'scale_pos_weight': 3.4000000000000004}. Best is trial 74 with value: 0.6087.\u001b[0m\n"
     ]
    },
    {
     "name": "stdout",
     "output_type": "stream",
     "text": [
      "[LightGBM] [Warning] early_stopping_round is set=20, early_stopping_rounds=20 will be ignored. Current value: early_stopping_round=20\n"
     ]
    },
    {
     "name": "stderr",
     "output_type": "stream",
     "text": [
      "\u001b[32m[I 2021-11-10 20:14:19,465]\u001b[0m Trial 76 finished with value: 0.6087 and parameters: {'num_leaves': 30, 'max_depth': 9, 'scale_pos_weight': 2.8}. Best is trial 74 with value: 0.6087.\u001b[0m\n"
     ]
    },
    {
     "name": "stdout",
     "output_type": "stream",
     "text": [
      "[LightGBM] [Warning] early_stopping_round is set=20, early_stopping_rounds=20 will be ignored. Current value: early_stopping_round=20\n"
     ]
    },
    {
     "name": "stderr",
     "output_type": "stream",
     "text": [
      "\u001b[32m[I 2021-11-10 20:16:19,778]\u001b[0m Trial 77 finished with value: 0.6087 and parameters: {'num_leaves': 30, 'max_depth': 9, 'scale_pos_weight': 2.8}. Best is trial 74 with value: 0.6087.\u001b[0m\n"
     ]
    },
    {
     "name": "stdout",
     "output_type": "stream",
     "text": [
      "[LightGBM] [Warning] early_stopping_round is set=20, early_stopping_rounds=20 will be ignored. Current value: early_stopping_round=20\n"
     ]
    },
    {
     "name": "stderr",
     "output_type": "stream",
     "text": [
      "\u001b[32m[I 2021-11-10 20:18:40,507]\u001b[0m Trial 78 finished with value: 0.5455 and parameters: {'num_leaves': 30, 'max_depth': 10, 'scale_pos_weight': 3.0}. Best is trial 74 with value: 0.6087.\u001b[0m\n"
     ]
    },
    {
     "name": "stdout",
     "output_type": "stream",
     "text": [
      "[LightGBM] [Warning] early_stopping_round is set=20, early_stopping_rounds=20 will be ignored. Current value: early_stopping_round=20\n"
     ]
    },
    {
     "name": "stderr",
     "output_type": "stream",
     "text": [
      "\u001b[32m[I 2021-11-10 20:20:09,483]\u001b[0m Trial 79 finished with value: 0.4737 and parameters: {'num_leaves': 30, 'max_depth': 9, 'scale_pos_weight': 3.2}. Best is trial 74 with value: 0.6087.\u001b[0m\n"
     ]
    },
    {
     "name": "stdout",
     "output_type": "stream",
     "text": [
      "[LightGBM] [Warning] early_stopping_round is set=20, early_stopping_rounds=20 will be ignored. Current value: early_stopping_round=20\n"
     ]
    },
    {
     "name": "stderr",
     "output_type": "stream",
     "text": [
      "\u001b[32m[I 2021-11-10 20:21:02,265]\u001b[0m Trial 80 finished with value: 0.3889 and parameters: {'num_leaves': 16, 'max_depth': 8, 'scale_pos_weight': 2.8}. Best is trial 74 with value: 0.6087.\u001b[0m\n"
     ]
    },
    {
     "name": "stdout",
     "output_type": "stream",
     "text": [
      "[LightGBM] [Warning] early_stopping_round is set=20, early_stopping_rounds=20 will be ignored. Current value: early_stopping_round=20\n"
     ]
    },
    {
     "name": "stderr",
     "output_type": "stream",
     "text": [
      "\u001b[32m[I 2021-11-10 20:22:46,413]\u001b[0m Trial 81 finished with value: 0.5 and parameters: {'num_leaves': 30, 'max_depth': 9, 'scale_pos_weight': 3.0}. Best is trial 74 with value: 0.6087.\u001b[0m\n"
     ]
    },
    {
     "name": "stdout",
     "output_type": "stream",
     "text": [
      "[LightGBM] [Warning] early_stopping_round is set=20, early_stopping_rounds=20 will be ignored. Current value: early_stopping_round=20\n"
     ]
    },
    {
     "name": "stderr",
     "output_type": "stream",
     "text": [
      "\u001b[32m[I 2021-11-10 20:24:49,164]\u001b[0m Trial 82 finished with value: 0.5532 and parameters: {'num_leaves': 28, 'max_depth': 9, 'scale_pos_weight': 2.8}. Best is trial 74 with value: 0.6087.\u001b[0m\n"
     ]
    },
    {
     "name": "stdout",
     "output_type": "stream",
     "text": [
      "[LightGBM] [Warning] early_stopping_round is set=20, early_stopping_rounds=20 will be ignored. Current value: early_stopping_round=20\n"
     ]
    },
    {
     "name": "stderr",
     "output_type": "stream",
     "text": [
      "\u001b[32m[I 2021-11-10 20:26:57,057]\u001b[0m Trial 83 finished with value: 0.5238 and parameters: {'num_leaves': 30, 'max_depth': 9, 'scale_pos_weight': 2.6}. Best is trial 74 with value: 0.6087.\u001b[0m\n"
     ]
    },
    {
     "name": "stdout",
     "output_type": "stream",
     "text": [
      "[LightGBM] [Warning] early_stopping_round is set=20, early_stopping_rounds=20 will be ignored. Current value: early_stopping_round=20\n"
     ]
    },
    {
     "name": "stderr",
     "output_type": "stream",
     "text": [
      "\u001b[32m[I 2021-11-10 20:27:31,375]\u001b[0m Trial 84 finished with value: 0.0 and parameters: {'num_leaves': 12, 'max_depth': 9, 'scale_pos_weight': 3.0}. Best is trial 74 with value: 0.6087.\u001b[0m\n"
     ]
    },
    {
     "name": "stdout",
     "output_type": "stream",
     "text": [
      "[LightGBM] [Warning] early_stopping_round is set=20, early_stopping_rounds=20 will be ignored. Current value: early_stopping_round=20\n"
     ]
    },
    {
     "name": "stderr",
     "output_type": "stream",
     "text": [
      "\u001b[32m[I 2021-11-10 20:29:37,980]\u001b[0m Trial 85 finished with value: 0.5238 and parameters: {'num_leaves': 30, 'max_depth': 9, 'scale_pos_weight': 2.6}. Best is trial 74 with value: 0.6087.\u001b[0m\n"
     ]
    },
    {
     "name": "stdout",
     "output_type": "stream",
     "text": [
      "[LightGBM] [Warning] early_stopping_round is set=20, early_stopping_rounds=20 will be ignored. Current value: early_stopping_round=20\n"
     ]
    },
    {
     "name": "stderr",
     "output_type": "stream",
     "text": [
      "\u001b[32m[I 2021-11-10 20:31:00,902]\u001b[0m Trial 86 finished with value: 0.4615 and parameters: {'num_leaves': 28, 'max_depth': 8, 'scale_pos_weight': 3.2}. Best is trial 74 with value: 0.6087.\u001b[0m\n"
     ]
    },
    {
     "name": "stdout",
     "output_type": "stream",
     "text": [
      "[LightGBM] [Warning] early_stopping_round is set=20, early_stopping_rounds=20 will be ignored. Current value: early_stopping_round=20\n"
     ]
    },
    {
     "name": "stderr",
     "output_type": "stream",
     "text": [
      "\u001b[32m[I 2021-11-10 20:32:11,997]\u001b[0m Trial 87 finished with value: 0.3889 and parameters: {'num_leaves': 22, 'max_depth': 9, 'scale_pos_weight': 2.4}. Best is trial 74 with value: 0.6087.\u001b[0m\n"
     ]
    },
    {
     "name": "stdout",
     "output_type": "stream",
     "text": [
      "[LightGBM] [Warning] early_stopping_round is set=20, early_stopping_rounds=20 will be ignored. Current value: early_stopping_round=20\n"
     ]
    },
    {
     "name": "stderr",
     "output_type": "stream",
     "text": [
      "\u001b[32m[I 2021-11-10 20:34:37,858]\u001b[0m Trial 88 finished with value: 0.5714 and parameters: {'num_leaves': 28, 'max_depth': 10, 'scale_pos_weight': 2.8}. Best is trial 74 with value: 0.6087.\u001b[0m\n"
     ]
    },
    {
     "name": "stdout",
     "output_type": "stream",
     "text": [
      "[LightGBM] [Warning] early_stopping_round is set=20, early_stopping_rounds=20 will be ignored. Current value: early_stopping_round=20\n"
     ]
    },
    {
     "name": "stderr",
     "output_type": "stream",
     "text": [
      "\u001b[32m[I 2021-11-10 20:35:43,893]\u001b[0m Trial 89 finished with value: 0.3889 and parameters: {'num_leaves': 20, 'max_depth': 9, 'scale_pos_weight': 2.8}. Best is trial 74 with value: 0.6087.\u001b[0m\n"
     ]
    },
    {
     "name": "stdout",
     "output_type": "stream",
     "text": [
      "[LightGBM] [Warning] early_stopping_round is set=20, early_stopping_rounds=20 will be ignored. Current value: early_stopping_round=20\n"
     ]
    },
    {
     "name": "stderr",
     "output_type": "stream",
     "text": [
      "\u001b[32m[I 2021-11-10 20:37:33,077]\u001b[0m Trial 90 finished with value: 0.4878 and parameters: {'num_leaves': 30, 'max_depth': 8, 'scale_pos_weight': 2.6}. Best is trial 74 with value: 0.6087.\u001b[0m\n"
     ]
    },
    {
     "name": "stdout",
     "output_type": "stream",
     "text": [
      "[LightGBM] [Warning] early_stopping_round is set=20, early_stopping_rounds=20 will be ignored. Current value: early_stopping_round=20\n"
     ]
    },
    {
     "name": "stderr",
     "output_type": "stream",
     "text": [
      "\u001b[32m[I 2021-11-10 20:39:10,567]\u001b[0m Trial 91 finished with value: 0.4878 and parameters: {'num_leaves': 28, 'max_depth': 10, 'scale_pos_weight': 3.0}. Best is trial 74 with value: 0.6087.\u001b[0m\n"
     ]
    },
    {
     "name": "stdout",
     "output_type": "stream",
     "text": [
      "[LightGBM] [Warning] early_stopping_round is set=20, early_stopping_rounds=20 will be ignored. Current value: early_stopping_round=20\n"
     ]
    },
    {
     "name": "stderr",
     "output_type": "stream",
     "text": [
      "\u001b[32m[I 2021-11-10 20:41:24,677]\u001b[0m Trial 92 finished with value: 0.5652 and parameters: {'num_leaves': 30, 'max_depth': 10, 'scale_pos_weight': 2.8}. Best is trial 74 with value: 0.6087.\u001b[0m\n"
     ]
    },
    {
     "name": "stdout",
     "output_type": "stream",
     "text": [
      "[LightGBM] [Warning] early_stopping_round is set=20, early_stopping_rounds=20 will be ignored. Current value: early_stopping_round=20\n"
     ]
    },
    {
     "name": "stderr",
     "output_type": "stream",
     "text": [
      "\u001b[32m[I 2021-11-10 20:43:57,582]\u001b[0m Trial 93 finished with value: 0.5882 and parameters: {'num_leaves': 24, 'max_depth': 10, 'scale_pos_weight': 2.8}. Best is trial 74 with value: 0.6087.\u001b[0m\n"
     ]
    },
    {
     "name": "stdout",
     "output_type": "stream",
     "text": [
      "[LightGBM] [Warning] early_stopping_round is set=20, early_stopping_rounds=20 will be ignored. Current value: early_stopping_round=20\n"
     ]
    },
    {
     "name": "stderr",
     "output_type": "stream",
     "text": [
      "\u001b[32m[I 2021-11-10 20:45:12,973]\u001b[0m Trial 94 finished with value: 0.3889 and parameters: {'num_leaves': 24, 'max_depth': 9, 'scale_pos_weight': 2.6}. Best is trial 74 with value: 0.6087.\u001b[0m\n"
     ]
    },
    {
     "name": "stdout",
     "output_type": "stream",
     "text": [
      "[LightGBM] [Warning] early_stopping_round is set=20, early_stopping_rounds=20 will be ignored. Current value: early_stopping_round=20\n"
     ]
    },
    {
     "name": "stderr",
     "output_type": "stream",
     "text": [
      "\u001b[32m[I 2021-11-10 20:46:24,472]\u001b[0m Trial 95 finished with value: 0.3889 and parameters: {'num_leaves': 24, 'max_depth': 9, 'scale_pos_weight': 2.4}. Best is trial 74 with value: 0.6087.\u001b[0m\n"
     ]
    },
    {
     "name": "stdout",
     "output_type": "stream",
     "text": [
      "[LightGBM] [Warning] early_stopping_round is set=20, early_stopping_rounds=20 will be ignored. Current value: early_stopping_round=20\n"
     ]
    },
    {
     "name": "stderr",
     "output_type": "stream",
     "text": [
      "\u001b[32m[I 2021-11-10 20:47:34,304]\u001b[0m Trial 96 finished with value: 0.3889 and parameters: {'num_leaves': 22, 'max_depth': 10, 'scale_pos_weight': 3.2}. Best is trial 74 with value: 0.6087.\u001b[0m\n"
     ]
    },
    {
     "name": "stdout",
     "output_type": "stream",
     "text": [
      "[LightGBM] [Warning] early_stopping_round is set=20, early_stopping_rounds=20 will be ignored. Current value: early_stopping_round=20\n"
     ]
    },
    {
     "name": "stderr",
     "output_type": "stream",
     "text": [
      "\u001b[32m[I 2021-11-10 20:48:47,760]\u001b[0m Trial 97 finished with value: 0.3889 and parameters: {'num_leaves': 24, 'max_depth': 9, 'scale_pos_weight': 3.0}. Best is trial 74 with value: 0.6087.\u001b[0m\n"
     ]
    },
    {
     "name": "stdout",
     "output_type": "stream",
     "text": [
      "[LightGBM] [Warning] early_stopping_round is set=20, early_stopping_rounds=20 will be ignored. Current value: early_stopping_round=20\n"
     ]
    },
    {
     "name": "stderr",
     "output_type": "stream",
     "text": [
      "\u001b[32m[I 2021-11-10 20:50:09,821]\u001b[0m Trial 98 finished with value: 0.3784 and parameters: {'num_leaves': 26, 'max_depth': 11, 'scale_pos_weight': 2.8}. Best is trial 74 with value: 0.6087.\u001b[0m\n"
     ]
    },
    {
     "name": "stdout",
     "output_type": "stream",
     "text": [
      "[LightGBM] [Warning] early_stopping_round is set=20, early_stopping_rounds=20 will be ignored. Current value: early_stopping_round=20\n"
     ]
    },
    {
     "name": "stderr",
     "output_type": "stream",
     "text": [
      "\u001b[32m[I 2021-11-10 20:51:13,935]\u001b[0m Trial 99 finished with value: 0.3889 and parameters: {'num_leaves': 22, 'max_depth': 9, 'scale_pos_weight': 3.0}. Best is trial 74 with value: 0.6087.\u001b[0m\n"
     ]
    }
   ],
   "source": [
    "study = optuna.create_study(direction='maximize')\n",
    "\n",
    "study.optimize(objective, n_trials=100)"
   ]
  },
  {
   "cell_type": "code",
   "execution_count": 67,
   "id": "63815f2f",
   "metadata": {},
   "outputs": [
    {
     "name": "stdout",
     "output_type": "stream",
     "text": [
      "[LightGBM] [Warning] early_stopping_round is set=20, early_stopping_rounds=20 will be ignored. Current value: early_stopping_round=20\n",
      "CPU times: user 44min 57s, sys: 1.91 s, total: 44min 59s\n",
      "Wall time: 2min 5s\n"
     ]
    }
   ],
   "source": [
    "%%time\n",
    "\n",
    "params = {\n",
    "    'boosting_type': 'gbdt',\n",
    "    'objective': 'binary',\n",
    "    'n_estimators': 300,\n",
    "    'num_leaves': 30,\n",
    "    'early_stopping_rounds': 20,\n",
    "    'max_depth': 9,\n",
    "    'learning_rate': 0.008,\n",
    "    # aggiungo questo parametro\n",
    "    'scale_pos_weight': 2.8\n",
    "}\n",
    "\n",
    "fit_params = {\n",
    "    'feature_name': features,\n",
    "    'categorical_feature': cat_columns,\n",
    "    'eval_metric': 'logloss',\n",
    "    'eval_set': [(x_test, y_test)]\n",
    "}\n",
    "\n",
    "\n",
    "model2 = lgb.LGBMClassifier(seed=SEED, n_jobs=-1, **params)\n",
    "        \n",
    "\n",
    "best_model2 = model2.fit(x_train, y_train, verbose=0, **fit_params)"
   ]
  },
  {
   "cell_type": "code",
   "execution_count": 68,
   "id": "f4d2cf0e",
   "metadata": {},
   "outputs": [
    {
     "data": {
      "image/png": "[encoded data removed]",
      "text/plain": [
       "<Figure size 432x288 with 2 Axes>"
      ]
     },
     "metadata": {
      "needs_background": "light"
     },
     "output_type": "display_data"
    }
   ],
   "source": [
    "plot_cm(best_model2, x_test, y_test)"
   ]
  },
  {
   "cell_type": "markdown",
   "id": "0c605cf0",
   "metadata": {},
   "source": [
    "### analizziamo in che modo posso migliorare cambiando la soglia di classificazione\n",
    "\n",
    "questa parte qui serve anche per spiegare quale utilità può avere l'AUC"
   ]
  },
  {
   "cell_type": "code",
   "execution_count": null,
   "id": "68b95abc",
   "metadata": {},
   "outputs": [],
   "source": [
    "y_pred = model2.predict_proba(x_test)"
   ]
  },
  {
   "cell_type": "code",
   "execution_count": null,
   "id": "75622c07",
   "metadata": {},
   "outputs": [],
   "source": [
    "list_tp = []\n",
    "list_tn = []\n",
    "\n",
    "# le varie soglie che voglio testare\n",
    "thresholds = [0.40, 0.42, 0.44, 0.46, 0.48, 0.50]\n",
    "\n",
    "for thr in thresholds:\n",
    "    y_label =  y_pred[:, 1] > thr\n",
    "    y_label = y_label.astype(int)\n",
    "    # conta tps\n",
    "    tps = (y_label * y_test)\n",
    "    count_tps = np.sum(tps)\n",
    "    \n",
    "    list_tp.append(count_tps)\n",
    "    \n",
    "    # conta tn\n",
    "    y_invert_label = np.where(y_label > 0, 0, 1)\n",
    "    y_invert_test = np.where(y_test > 0, 0, 1)\n",
    "    \n",
    "    tns = (y_invert_label)*(y_invert_test)\n",
    "    count_tns = np.sum(tns)\n",
    "    \n",
    "    list_tn.append(count_tns)"
   ]
  },
  {
   "cell_type": "code",
   "execution_count": null,
   "id": "e30f73f9",
   "metadata": {},
   "outputs": [],
   "source": [
    "plt.figure(figsize=FIGSIZE)\n",
    "plt.title(\"TN e TP al variare della soglia\")\n",
    "plt.plot(thresholds, list_tn, \"b*\", label=\"TN\")\n",
    "plt.plot(thresholds, list_tp, \"ro\", label=\"TP\")\n",
    "\n",
    "plt.legend(loc='center right')\n",
    "plt.xlabel('Thresholds')\n",
    "plt.ylabel('Count')\n",
    "\n",
    "plt.grid(True)\n",
    "plt.show()"
   ]
  },
  {
   "cell_type": "code",
   "execution_count": null,
   "id": "cb0c040b",
   "metadata": {},
   "outputs": [],
   "source": [
    "list_tp"
   ]
  },
  {
   "cell_type": "code",
   "execution_count": null,
   "id": "2f3e73e9",
   "metadata": {},
   "outputs": [],
   "source": [
    "list_tn"
   ]
  },
  {
   "cell_type": "markdown",
   "id": "9fde5dc9",
   "metadata": {},
   "source": [
    "### Possiamo quindi quasi triplicare i TP, con un 10% di diminuzione dei TN abbassando la soglia di classificazione a 0.4"
   ]
  },
  {
   "cell_type": "code",
   "execution_count": null,
   "id": "6a2ecddf",
   "metadata": {},
   "outputs": [],
   "source": []
  }
 ],
 "metadata": {
  "kernelspec": {
   "display_name": "Python [conda env:tf26_catboostv1_0]",
   "language": "python",
   "name": "conda-env-tf26_catboostv1_0-py"
  },
  "language_info": {
   "codemirror_mode": {
    "name": "ipython",
    "version": 3
   },
   "file_extension": ".py",
   "mimetype": "text/x-python",
   "name": "python",
   "nbconvert_exporter": "python",
   "pygments_lexer": "ipython3",
   "version": "3.7.10"
  }
 },
 "nbformat": 4,
 "nbformat_minor": 5
}
