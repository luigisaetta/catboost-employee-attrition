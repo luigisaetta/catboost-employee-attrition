{
 "cells": [
  {
   "cell_type": "markdown",
   "id": "6eb3ba8d",
   "metadata": {},
   "source": [
    "### ADWH loading"
   ]
  },
  {
   "cell_type": "code",
   "execution_count": 2,
   "id": "d38ae284",
   "metadata": {},
   "outputs": [],
   "source": [
    "import cx_Oracle\n",
    "\n",
    "import logging\n",
    "import os\n",
    "import pandas as pd\n",
    "import warnings\n",
    "\n",
    "from ads.database import connection \n",
    "from ads.database.connection import Connector\n",
    "from ads.dataset.factory import DatasetFactory"
   ]
  },
  {
   "cell_type": "code",
   "execution_count": null,
   "id": "0039944c",
   "metadata": {},
   "outputs": [],
   "source": []
  }
 ],
 "metadata": {
  "kernelspec": {
   "display_name": "Python [conda env:database_p37_cpu_v1]",
   "language": "python",
   "name": "conda-env-database_p37_cpu_v1-py"
  },
  "language_info": {
   "codemirror_mode": {
    "name": "ipython",
    "version": 3
   },
   "file_extension": ".py",
   "mimetype": "text/x-python",
   "name": "python",
   "nbconvert_exporter": "python",
   "pygments_lexer": "ipython3",
   "version": "3.7.10"
  }
 },
 "nbformat": 4,
 "nbformat_minor": 5
}
