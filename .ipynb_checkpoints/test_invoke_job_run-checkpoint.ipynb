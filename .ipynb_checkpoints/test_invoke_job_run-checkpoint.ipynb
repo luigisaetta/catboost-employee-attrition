{
 "cells": [
  {
   "cell_type": "markdown",
   "id": "d6c9f30c",
   "metadata": {},
   "source": [
    "# Test JOB RUN from HTTP"
   ]
  },
  {
   "cell_type": "code",
   "execution_count": 2,
   "id": "3f9032c7",
   "metadata": {},
   "outputs": [],
   "source": [
    "# the last steps to invoke the model deployment REST service\n",
    "import requests\n",
    "import oci\n",
    "from oci.signer import Signer"
   ]
  },
  {
   "cell_type": "code",
   "execution_count": 3,
   "id": "5b0eb8ae",
   "metadata": {},
   "outputs": [
    {
     "name": "stdout",
     "output_type": "stream",
     "text": [
      "These are the probs from the deployed model:\n",
      "{'code': 'InvalidParameter', 'message': 'compartmentId is not available'}\n",
      "CPU times: user 631 ms, sys: 17.6 ms, total: 648 ms\n",
      "Wall time: 1.93 s\n"
     ]
    }
   ],
   "source": [
    "%%time\n",
    "endpoint = \"https://datascience.eu-frankfurt-1.oci.oraclecloud.com/20190101/jobRuns\"\n",
    "\n",
    "# again using RP\n",
    "rps = oci.auth.signers.get_resource_principals_signer()\n",
    "\n",
    "# payload goes here\n",
    "body = {}\n",
    "\n",
    "print(\"These are the probs from the deployed model:\")\n",
    "\n",
    "print(requests.post(endpoint, json=body, auth=rps).json())"
   ]
  },
  {
   "cell_type": "code",
   "execution_count": null,
   "id": "f10a3d96",
   "metadata": {},
   "outputs": [],
   "source": []
  }
 ],
 "metadata": {
  "kernelspec": {
   "display_name": "Python [conda env:tensorflow27_p37_cpu_v1]",
   "language": "python",
   "name": "conda-env-tensorflow27_p37_cpu_v1-py"
  },
  "language_info": {
   "codemirror_mode": {
    "name": "ipython",
    "version": 3
   },
   "file_extension": ".py",
   "mimetype": "text/x-python",
   "name": "python",
   "nbconvert_exporter": "python",
   "pygments_lexer": "ipython3",
   "version": "3.7.12"
  }
 },
 "nbformat": 4,
 "nbformat_minor": 5
}
