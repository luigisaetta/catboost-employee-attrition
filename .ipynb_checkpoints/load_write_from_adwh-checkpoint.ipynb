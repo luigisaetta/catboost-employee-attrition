{
 "cells": [
  {
   "cell_type": "markdown",
   "id": "05dfccc4",
   "metadata": {},
   "source": [
    "### ADWH loading and writing\n",
    "\n",
    "* load data from ADWH\n",
    "* add SCORE\n",
    "* write in ATTRITION_SCORE table"
   ]
  },
  {
   "cell_type": "code",
   "execution_count": null,
   "id": "66b21a4f",
   "metadata": {},
   "outputs": [],
   "source": [
    "import cx_Oracle\n",
    "\n",
    "import logging\n",
    "import os\n",
    "import pandas as pd\n",
    "import warnings\n",
    "\n",
    "from ads.database import connection \n",
    "from ads.database.connection import Connector\n",
    "\n",
    "# SQLAlchemy for writing\n",
    "from sqlalchemy import types, create_engine\n",
    "\n",
    "warnings.filterwarnings(\"ignore\", category=DeprecationWarning) \n",
    "logging.basicConfig(format='%(levelname)s:%(message)s', level=logging.INFO)"
   ]
  },
  {
   "cell_type": "code",
   "execution_count": null,
   "id": "79c8ffc4",
   "metadata": {},
   "outputs": [],
   "source": [
    "# Sample credentials that are going to be stored.\n",
    "credential = {'database_name': 'adwh1_medium', \n",
    "              'username': 'HR', \n",
    "              'password': 'DataLake1234;;',\n",
    "              'database_type':'oracle'}"
   ]
  },
  {
   "cell_type": "code",
   "execution_count": null,
   "id": "908c0407",
   "metadata": {},
   "outputs": [],
   "source": [
    "database_name = \"ADWH1\"\n",
    "\n",
    "# crea un repository locale, all'interno dello storage della NB session\n",
    "# alternativa: usare il vault\n",
    "connection.update_repository(key=database_name, value=credential) \n",
    "connection.get_repository(key=database_name)"
   ]
  },
  {
   "cell_type": "code",
   "execution_count": null,
   "id": "55075ad2",
   "metadata": {},
   "outputs": [],
   "source": [
    "wallet_path = \"/home/datascience/catboost-employee-attrition/Wallet_ADWH1.zip\"\n",
    "\n",
    "# penso che serva solo per creare la dir con il wallet unzipped\n",
    "connection.import_wallet(wallet_path=wallet_path, key=database_name)"
   ]
  },
  {
   "cell_type": "code",
   "execution_count": null,
   "id": "86c79781",
   "metadata": {},
   "outputs": [],
   "source": [
    "# if \"database_name\" in globals() and database_name != '<database_name>':\n",
    "# importante, creare un oggetto di tipo connector\n",
    "#    connector = Connector(key=database_name)\n",
    "# else:\n",
    "#    print(\"Skipping as it appears that you do not have database_name configured.\")"
   ]
  },
  {
   "cell_type": "code",
   "execution_count": null,
   "id": "3a270f77",
   "metadata": {},
   "outputs": [],
   "source": [
    "# build the connect string\n",
    "\n",
    "if credential['database_name'] != '<database_name>' and \\\n",
    "   credential['username'] != '<user_name>' and \\\n",
    "   credential['password'] != '<password>':\n",
    "    connector = Connector(database_name=credential['database_name'],\n",
    "                          username=credential['username'], \n",
    "                          password=credential['password'],\n",
    "                          database_type=credential['database_type'])"
   ]
  },
  {
   "cell_type": "code",
   "execution_count": null,
   "id": "7f6c3f0f",
   "metadata": {},
   "outputs": [],
   "source": [
    "connector"
   ]
  },
  {
   "cell_type": "code",
   "execution_count": null,
   "id": "a7373919",
   "metadata": {},
   "outputs": [],
   "source": [
    "connector.config"
   ]
  },
  {
   "cell_type": "code",
   "execution_count": null,
   "id": "d5044141",
   "metadata": {},
   "outputs": [],
   "source": [
    "engine = create_engine(connector.uri)\n",
    "\n",
    "sql_attrition = \"SELECT * FROM ATTRITION\"\n",
    "\n",
    "attrition = pd.read_sql(sql_attrition, con=engine)\n",
    "\n",
    "attrition_scored = attrition.copy()\n",
    "\n",
    "# simulate scoring\n",
    "attrition_scored['SCORE'] = 0.6"
   ]
  },
  {
   "cell_type": "markdown",
   "id": "da2a8d8a",
   "metadata": {},
   "source": [
    "### Writing"
   ]
  },
  {
   "cell_type": "code",
   "execution_count": null,
   "id": "d00a64cf",
   "metadata": {},
   "outputs": [],
   "source": [
    "# fa in modo che i campi Pandas Object siano salvati come VARCHAR e non BLOB\n",
    "# altrimenti, è molto lento\n",
    "\n",
    "dtyp = {c:types.VARCHAR(attrition_scored[c].str.len().max())\n",
    "        for c in attrition_scored.columns[attrition_scored.dtypes == 'object'].tolist()}"
   ]
  },
  {
   "cell_type": "code",
   "execution_count": null,
   "id": "523e2590",
   "metadata": {},
   "outputs": [],
   "source": [
    "dtyp"
   ]
  },
  {
   "cell_type": "code",
   "execution_count": null,
   "id": "990ee875",
   "metadata": {},
   "outputs": [],
   "source": [
    "# now write back to DB\n",
    "# importante usare qui il nome in lowercase\n",
    "attrition_scored.to_sql(name='attrition_scored', index=False, con=engine, if_exists='replace', dtype=dtyp)"
   ]
  },
  {
   "cell_type": "code",
   "execution_count": null,
   "id": "c7a6ff8d",
   "metadata": {},
   "outputs": [],
   "source": []
  }
 ],
 "metadata": {
  "kernelspec": {
   "display_name": "Python [conda env:database_p37_cpu_v1]",
   "language": "python",
   "name": "conda-env-database_p37_cpu_v1-py"
  },
  "language_info": {
   "codemirror_mode": {
    "name": "ipython",
    "version": 3
   },
   "file_extension": ".py",
   "mimetype": "text/x-python",
   "name": "python",
   "nbconvert_exporter": "python",
   "pygments_lexer": "ipython3",
   "version": "3.7.10"
  }
 },
 "nbformat": 4,
 "nbformat_minor": 5
}
