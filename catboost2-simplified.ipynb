{
 "cells": [
  {
   "cell_type": "markdown",
   "id": "8ca81aeb",
   "metadata": {},
   "source": [
    "### Employee Attrition using **CatBoost**\n",
    "\n",
    "* L.S, ottobre 2021\n",
    "* gestione delle **feature categoriche**\n",
    "* importanza del **Learning rate**\n",
    "* gestione dataset imbalance tramite **class weights**\n",
    "* expanded list of features (see eda2)\n",
    "\n",
    "Questo notebook è semplificato, rispetto alla versione completa (catboost1)"
   ]
  },
  {
   "cell_type": "code",
   "execution_count": 1,
   "id": "078e6c8f",
   "metadata": {},
   "outputs": [],
   "source": [
    "import pandas as pd\n",
    "import numpy as np\n",
    "\n",
    "# for reading data from Object Storage\n",
    "import ocifs\n",
    "from ads import set_auth\n",
    "\n",
    "# usero' catboost\n",
    "import catboost as cat\n",
    "\n",
    "# per la confusion matrix ed altre metriche uso sklearn\n",
    "from sklearn.metrics import confusion_matrix, ConfusionMatrixDisplay\n",
    "from sklearn.preprocessing import LabelEncoder\n",
    "from sklearn.metrics import roc_auc_score\n",
    "from sklearn.metrics import recall_score\n",
    "from sklearn.metrics import precision_score\n",
    "from sklearn.metrics import accuracy_score\n",
    "\n",
    "# grafici\n",
    "import matplotlib.pyplot as plt\n",
    "import seaborn as sns"
   ]
  },
  {
   "cell_type": "code",
   "execution_count": 2,
   "id": "dd425901",
   "metadata": {},
   "outputs": [],
   "source": [
    "# this way we enable access to Object Storage and don't need to provide API keys\n",
    "# OCI admin must have set-up a dynamic group for Notebooks, with proper policy\n",
    "set_auth(auth='resource_principal')"
   ]
  },
  {
   "cell_type": "code",
   "execution_count": 3,
   "id": "986c39a2",
   "metadata": {},
   "outputs": [],
   "source": [
    "# utility function and globals\n",
    "# GLOBALS\n",
    "FIGSIZE = (9, 6)\n",
    "\n",
    "SEED = 42\n",
    "\n",
    "# additional print\n",
    "DEBUG = 0\n",
    "\n",
    "#set the tracking uri to log runs on a tracking server\n",
    "TRACKING_URI = \"http://150.230.146.100:5000/\"\n",
    "\n",
    "# end globals\n",
    "\n",
    "#\n",
    "# Utility functions\n",
    "#\n",
    "\n",
    "#\n",
    "# easy plot of the confusion matrix\n",
    "#\n",
    "def plot_cm(model, x_test, y_test):\n",
    "    y_pred_labels = model.predict(x_test)\n",
    "    cm = confusion_matrix(y_test, y_pred_labels)\n",
    "    disp = ConfusionMatrixDisplay(confusion_matrix=cm)\n",
    "    disp.plot();\n",
    "\n",
    "#\n",
    "# Compute metrics\n",
    "#\n",
    "def compute_auc(model, x_test, y_test):\n",
    "    y_pred = model.predict_proba(x_test)\n",
    "    y_pred = y_pred[:, 1]\n",
    "    auc = round(roc_auc_score(y_test, y_pred), 4)\n",
    "    \n",
    "    return auc\n",
    "\n",
    "def compute_prec_rec(model, x_test, y_test):\n",
    "    y_pred_labels = model.predict(x_test)\n",
    "    \n",
    "    rec = round(recall_score(y_test, y_pred_labels), 4)\n",
    "    prec = round(precision_score(y_test, y_pred_labels), 4)\n",
    "    \n",
    "    return prec, rec\n",
    "\n",
    "def compute_accuracy(model, x_test, y_test):\n",
    "    y_pred_labels = model.predict(x_test)\n",
    "    acc = accuracy_score(y_test, y_pred_labels)\n",
    "    \n",
    "    return round(acc, 3)\n",
    "\n",
    "#\n",
    "# my split in train, test set\n",
    "#\n",
    "def my_train_test_split(df, frac):\n",
    "    # frac: the fraction used for train\n",
    "    # df: the dataframe\n",
    "    \n",
    "    # shuffle before split\n",
    "    df = df.sample(frac=1., random_state=SEED)\n",
    "\n",
    "    # FRAC = 0.90\n",
    "    tot_rec = df.shape[0]\n",
    "    NUM_TRAIN = int(frac*tot_rec)\n",
    "    NUM_TEST = tot_rec - NUM_TRAIN\n",
    "\n",
    "    data_train = df[:NUM_TRAIN]\n",
    "    data_test = df[NUM_TRAIN:]\n",
    "\n",
    "    print()\n",
    "    print('Numero totale di campioni:', tot_rec)\n",
    "    print('Numero di campioni nel TRAIN SET:', data_train.shape[0])\n",
    "    print('Numero di campioni nel TEST SET:', data_test.shape[0])\n",
    "    \n",
    "    return data_train, data_test\n",
    "\n",
    "# read the csv from Object storage and return a pandas df\n",
    "def read_from_object_storage(prefix, file_name):\n",
    "    # get access to OSS as an fs\n",
    "    # config={} assume resource_principal auth\n",
    "    fs = ocifs.OCIFileSystem(config={})\n",
    "    \n",
    "    FILE_PATH = prefix + file_name\n",
    "    \n",
    "    # reading data from Object Storage\n",
    "    with fs.open(FILE_PATH, 'rb') as f:\n",
    "        df = pd.read_csv(f)\n",
    "    \n",
    "    return df"
   ]
  },
  {
   "cell_type": "markdown",
   "id": "669590b0",
   "metadata": {},
   "source": [
    "### Reading dataset from Object Storage"
   ]
  },
  {
   "cell_type": "code",
   "execution_count": 4,
   "id": "d4b39412",
   "metadata": {},
   "outputs": [],
   "source": [
    "# input data from file in Object Storage\n",
    "PREFIX = \"oci://data_input@fr95jjtqbdhh/\"\n",
    "FILE_NAME = \"orcl_attrition.csv\"\n",
    "\n",
    "# see in functions above\n",
    "data_orig = read_from_object_storage(prefix=PREFIX, file_name=FILE_NAME)\n",
    "\n",
    "# some columns are not needed. This is the list of columns that will be used\n",
    "my_columns = ['Age', 'Attrition','CommuteLength','EducationField','EducationalLevel','EnvironmentSatisfaction',\n",
    "              'Gender','HourlyRate','JobFunction','JobInvolvement','JobRole','JobSatisfaction','MaritalStatus',\n",
    "              'MonthlyIncome','MonthlyRate','NumCompaniesWorked','OverTime','PerformanceRating','RelationshipSatisfaction',\n",
    "              'SalaryLevel','StockOptionLevel','TrainingTimesLastYear','TravelForWork','WorkLifeBalance','YearsAtCurrentLevel','YearsSinceLastPromotion']\n",
    "\n",
    "# dataset filtrato eliminando le colonne non necessarie\n",
    "data = data_orig[my_columns]"
   ]
  },
  {
   "cell_type": "code",
   "execution_count": 6,
   "id": "ab169f62",
   "metadata": {},
   "outputs": [
    {
     "name": "stdout",
     "output_type": "stream",
     "text": [
      "Colonna Target: Attrition\n",
      "\n",
      "Tutte le features: ['Age', 'CommuteLength', 'EducationField', 'EducationalLevel', 'EnvironmentSatisfaction', 'Gender', 'HourlyRate', 'JobFunction', 'JobInvolvement', 'JobRole', 'JobSatisfaction', 'MaritalStatus', 'MonthlyIncome', 'MonthlyRate', 'NumCompaniesWorked', 'OverTime', 'PerformanceRating', 'RelationshipSatisfaction', 'SalaryLevel', 'StockOptionLevel', 'TrainingTimesLastYear', 'TravelForWork', 'WorkLifeBalance', 'YearsAtCurrentLevel', 'YearsSinceLastPromotion'] 25\n",
      "\n",
      "Colonne categorical: ['Age', 'Attrition', 'CommuteLength', 'EducationField', 'EducationalLevel', 'EnvironmentSatisfaction', 'Gender', 'HourlyRate', 'JobFunction', 'JobInvolvement', 'JobRole', 'JobSatisfaction', 'MaritalStatus', 'NumCompaniesWorked', 'OverTime', 'PerformanceRating', 'RelationshipSatisfaction', 'StockOptionLevel', 'TrainingTimesLastYear', 'TravelForWork', 'WorkLifeBalance', 'YearsAtCurrentLevel', 'YearsSinceLastPromotion'] 23\n",
      "\n",
      "Colonne numeriche: ['MonthlyIncome', 'MonthlyRate', 'SalaryLevel'] 3\n",
      "\n",
      "Numero totale di campioni: 1470\n",
      "Numero di campioni nel TRAIN SET: 1323\n",
      "Numero di campioni nel TEST SET: 147\n"
     ]
    }
   ],
   "source": [
    "# tipologie di features e colonne\n",
    "TARGET = 'Attrition'\n",
    "\n",
    "# automatizziamo !!!\n",
    "all_columns = sorted(data.columns)\n",
    "features = sorted(list(set(all_columns) - set([TARGET])))\n",
    "\n",
    "# per decidere, guarda statistiche dal Notebook EDA1\n",
    "cat_columns = sorted(['Age', 'Attrition','CommuteLength','EducationField','EducationalLevel','EnvironmentSatisfaction',\n",
    "              'Gender','HourlyRate','JobFunction','JobInvolvement','JobRole','JobSatisfaction','MaritalStatus',\n",
    "                      'NumCompaniesWorked','OverTime','PerformanceRating','RelationshipSatisfaction',\n",
    "                      'StockOptionLevel','TrainingTimesLastYear','TravelForWork','WorkLifeBalance','YearsAtCurrentLevel','YearsSinceLastPromotion'])\n",
    "\n",
    "\n",
    "# colonne numeriche, continue (tutte le altre)\n",
    "num_columns = sorted(list(set(all_columns) - set(cat_columns) - set([TARGET])))\n",
    "\n",
    "print('Colonna Target:', TARGET)\n",
    "print()\n",
    "print('Tutte le features:', features, len(features))\n",
    "print()\n",
    "print('Colonne categorical:', cat_columns, len(cat_columns))\n",
    "print()\n",
    "print('Colonne numeriche:', num_columns, len(num_columns))\n",
    "\n",
    "\n",
    "# split TRAIN, TEST\n",
    "# shuffle prima dello split TRAIN, TEST\n",
    "FRAC = 0.90\n",
    "\n",
    "data_train, data_test = my_train_test_split(data, frac=FRAC)"
   ]
  },
  {
   "cell_type": "code",
   "execution_count": 7,
   "id": "77596881",
   "metadata": {},
   "outputs": [],
   "source": [
    "# separo X (features) ed y (target)\n",
    "x_train = data_train[features]\n",
    "y_train = data_train[TARGET]\n",
    "\n",
    "x_test = data_test[features]\n",
    "y_test = data_test[TARGET]\n",
    "\n",
    "# encode labels as 0, 1\n",
    "le = LabelEncoder()\n",
    "\n",
    "# fit the encoder\n",
    "le.fit(y_train.values)\n",
    "\n",
    "# encode train and test\n",
    "y_train = le.transform(y_train.values)\n",
    "y_test = le.transform(y_test.values)\n",
    "\n",
    "# cat boost want indexes\n",
    "cat_columns_idxs = [i for i, col in enumerate(x_train.columns) if col in cat_columns]"
   ]
  },
  {
   "cell_type": "markdown",
   "id": "a86c7665",
   "metadata": {},
   "source": [
    "### First run, without class weights"
   ]
  },
  {
   "cell_type": "code",
   "execution_count": 8,
   "id": "0835b4ce",
   "metadata": {},
   "outputs": [
    {
     "name": "stdout",
     "output_type": "stream",
     "text": [
      "CPU times: user 4min 10s, sys: 42.2 s, total: 4min 53s\n",
      "Wall time: 16.5 s\n"
     ]
    },
    {
     "data": {
      "text/plain": [
       "<catboost.core.CatBoostClassifier at 0x7fd7f36f67d0>"
      ]
     },
     "execution_count": 8,
     "metadata": {},
     "output_type": "execute_result"
    }
   ],
   "source": [
    "%%time\n",
    "# First: try without addressing data imbalance\n",
    "\n",
    "params = {'iterations':900,\n",
    "          'learning_rate':0.005,\n",
    "          'depth':10\n",
    "         }\n",
    "\n",
    "model = cat.CatBoostClassifier()\n",
    "model.set_params(**params)\n",
    "\n",
    "model.fit(x_train, y_train, cat_columns_idxs, verbose=False, early_stopping_rounds=30)"
   ]
  },
  {
   "cell_type": "code",
   "execution_count": 9,
   "id": "6f6376d7",
   "metadata": {},
   "outputs": [
    {
     "name": "stdout",
     "output_type": "stream",
     "text": [
      "AUC computed on the test set is: 0.8534\n",
      "precision and recall computed on the test set are: prec: 0.7143 rec: 0.1852\n",
      "Accuracy on test set is: 0.837\n"
     ]
    }
   ],
   "source": [
    "# compute and register results\n",
    "auc = compute_auc(model, x_test, y_test)\n",
    "print('AUC computed on the test set is:', auc)\n",
    "\n",
    "prec, rec = compute_prec_rec(model, x_test, y_test)\n",
    "print('precision and recall computed on the test set are:', 'prec:', prec, 'rec:', rec)\n",
    "\n",
    "acc = compute_accuracy(model, x_test, y_test)\n",
    "print('Accuracy on test set is:', acc)"
   ]
  },
  {
   "cell_type": "code",
   "execution_count": 10,
   "id": "38b2377d",
   "metadata": {},
   "outputs": [
    {
     "data": {
      "image/png": "[encoded data removed]",
      "text/plain": [
       "<Figure size 432x288 with 2 Axes>"
      ]
     },
     "metadata": {
      "needs_background": "light"
     },
     "output_type": "display_data"
    }
   ],
   "source": [
    "plot_cm(model, x_test, y_test)"
   ]
  },
  {
   "cell_type": "code",
   "execution_count": 11,
   "id": "0cd4d8a7",
   "metadata": {},
   "outputs": [
    {
     "data": {
      "image/png": "[encoded data removed]",
      "text/plain": [
       "<Figure size 432x288 with 2 Axes>"
      ]
     },
     "metadata": {
      "needs_background": "light"
     },
     "output_type": "display_data"
    }
   ],
   "source": [
    "plot_cm(model, x_train, y_train)"
   ]
  },
  {
   "cell_type": "markdown",
   "id": "0b9fa0db",
   "metadata": {},
   "source": [
    "### Second run, with class weights"
   ]
  },
  {
   "cell_type": "code",
   "execution_count": 12,
   "id": "c6e539e8",
   "metadata": {},
   "outputs": [
    {
     "name": "stdout",
     "output_type": "stream",
     "text": [
      "CPU times: user 4min 9s, sys: 41.2 s, total: 4min 50s\n",
      "Wall time: 16.1 s\n"
     ]
    },
    {
     "data": {
      "text/plain": [
       "<catboost.core.CatBoostClassifier at 0x7fd7eb03fa90>"
      ]
     },
     "execution_count": 12,
     "metadata": {},
     "output_type": "execute_result"
    }
   ],
   "source": [
    "%%time\n",
    "\n",
    "# to address data imbalance\n",
    "class_weights = dict({0:1, 1:5.5})\n",
    "\n",
    "params = {'iterations':900,\n",
    "          'learning_rate':0.005,\n",
    "          'depth':10,\n",
    "          'class_weights':class_weights\n",
    "         }\n",
    "\n",
    "model = cat.CatBoostClassifier()\n",
    "model.set_params(**params)\n",
    "\n",
    "model.fit(x_train, y_train, cat_columns_idxs, verbose=False, early_stopping_rounds=30)"
   ]
  },
  {
   "cell_type": "code",
   "execution_count": 13,
   "id": "9a3b742d",
   "metadata": {},
   "outputs": [
    {
     "name": "stdout",
     "output_type": "stream",
     "text": [
      "AUC computed on the test set is: 0.8485\n",
      "precision and recall computed on the test set are: prec: 0.5769 rec: 0.5556\n",
      "Accuracy on test set is: 0.844\n"
     ]
    }
   ],
   "source": [
    "# compute and register results\n",
    "auc = compute_auc(model, x_test, y_test)\n",
    "print('AUC computed on the test set is:', auc)\n",
    "\n",
    "prec, rec = compute_prec_rec(model, x_test, y_test)\n",
    "print('precision and recall computed on the test set are:', 'prec:', prec, 'rec:', rec)\n",
    "\n",
    "acc = compute_accuracy(model, x_test, y_test)\n",
    "print('Accuracy on test set is:', acc)"
   ]
  },
  {
   "cell_type": "markdown",
   "id": "7c3f37ed",
   "metadata": {},
   "source": [
    "### Evaluate confusion matrix on test set"
   ]
  },
  {
   "cell_type": "code",
   "execution_count": 14,
   "id": "b18cd5a6",
   "metadata": {},
   "outputs": [
    {
     "data": {
      "image/png": "[encoded data removed]",
      "text/plain": [
       "<Figure size 432x288 with 2 Axes>"
      ]
     },
     "metadata": {
      "needs_background": "light"
     },
     "output_type": "display_data"
    }
   ],
   "source": [
    "plot_cm(model, x_test, y_test)"
   ]
  },
  {
   "cell_type": "code",
   "execution_count": 15,
   "id": "0229f768",
   "metadata": {},
   "outputs": [
    {
     "data": {
      "image/png": "[encoded data removed]",
      "text/plain": [
       "<Figure size 432x288 with 2 Axes>"
      ]
     },
     "metadata": {
      "needs_background": "light"
     },
     "output_type": "display_data"
    }
   ],
   "source": [
    "# c'è un certo overfitting...\n",
    "plot_cm(model, x_train, y_train)"
   ]
  },
  {
   "cell_type": "code",
   "execution_count": 17,
   "id": "9584a7c0",
   "metadata": {},
   "outputs": [],
   "source": [
    "# aggiunta di altre feature ha leggermente peggiorato l'overfitting... ci vuole l2 reg.\n",
    "# però:recall è eguale, accuracy leggermente migliore... quindi bene aggiungere altre feature"
   ]
  },
  {
   "cell_type": "markdown",
   "id": "959a5562",
   "metadata": {},
   "source": [
    "### Global explaination using feature importance"
   ]
  },
  {
   "cell_type": "code",
   "execution_count": 16,
   "id": "70370ceb",
   "metadata": {},
   "outputs": [
    {
     "data": {
      "image/png": "[encoded data removed]",
      "text/plain": [
       "<Figure size 648x432 with 1 Axes>"
      ]
     },
     "metadata": {
      "needs_background": "light"
     },
     "output_type": "display_data"
    }
   ],
   "source": [
    "# eXplainability: Feature importance\n",
    "\n",
    "plt.figure(figsize = FIGSIZE)\n",
    "plt.grid(True)\n",
    "sns.barplot(x = model.get_feature_importance(), y = features);"
   ]
  },
  {
   "cell_type": "code",
   "execution_count": 19,
   "id": "ffed9518",
   "metadata": {},
   "outputs": [
    {
     "name": "stdout",
     "output_type": "stream",
     "text": [
      "CPU times: user 1min 33s, sys: 30.4 s, total: 2min 4s\n",
      "Wall time: 7.53 s\n"
     ]
    },
    {
     "data": {
      "text/plain": [
       "<catboost.core.CatBoostClassifier at 0x7fd7e1f4b890>"
      ]
     },
     "execution_count": 19,
     "metadata": {},
     "output_type": "execute_result"
    }
   ],
   "source": [
    "%%time\n",
    "\n",
    "# let's check with the expnaded set of features + L2 reg\n",
    "\n",
    "# to address data imbalance\n",
    "class_weights = dict({0:1, 1:5.5})\n",
    "\n",
    "params = {'iterations':900,\n",
    "          'learning_rate':0.005,\n",
    "          'depth':6,\n",
    "          'class_weights':class_weights,\n",
    "          'l2_leaf_reg':1.4775889527824428\n",
    "         }\n",
    "\n",
    "model = cat.CatBoostClassifier()\n",
    "model.set_params(**params)\n",
    "\n",
    "model.fit(x_train, y_train, cat_columns_idxs, verbose=False, early_stopping_rounds=30)"
   ]
  },
  {
   "cell_type": "code",
   "execution_count": 20,
   "id": "67fdf871",
   "metadata": {},
   "outputs": [
    {
     "data": {
      "image/png": "[encoded data removed]",
      "text/plain": [
       "<Figure size 432x288 with 2 Axes>"
      ]
     },
     "metadata": {
      "needs_background": "light"
     },
     "output_type": "display_data"
    }
   ],
   "source": [
    "plot_cm(model, x_test, y_test)"
   ]
  },
  {
   "cell_type": "code",
   "execution_count": 21,
   "id": "31014ef8",
   "metadata": {},
   "outputs": [
    {
     "name": "stdout",
     "output_type": "stream",
     "text": [
      "AUC computed on the test set is: 0.8552\n",
      "precision and recall computed on the test set are: prec: 0.4565 rec: 0.7778\n",
      "Accuracy on test set is: 0.789\n"
     ]
    }
   ],
   "source": [
    "# compute and register results\n",
    "auc = compute_auc(model, x_test, y_test)\n",
    "print('AUC computed on the test set is:', auc)\n",
    "\n",
    "prec, rec = compute_prec_rec(model, x_test, y_test)\n",
    "print('precision and recall computed on the test set are:', 'prec:', prec, 'rec:', rec)\n",
    "\n",
    "acc = compute_accuracy(model, x_test, y_test)\n",
    "print('Accuracy on test set is:', acc)"
   ]
  },
  {
   "cell_type": "code",
   "execution_count": null,
   "id": "a92db9e5",
   "metadata": {},
   "outputs": [],
   "source": []
  }
 ],
 "metadata": {
  "kernelspec": {
   "name": "conda-env-tf26_catboostv1_0-py"
  },
  "language_info": {
   "codemirror_mode": {
    "name": "ipython",
    "version": 3
   },
   "file_extension": ".py",
   "mimetype": "text/x-python",
   "name": "python",
   "nbconvert_exporter": "python",
   "pygments_lexer": "ipython3",
   "version": "3.7.10"
  }
 },
 "nbformat": 4,
 "nbformat_minor": 5
}
