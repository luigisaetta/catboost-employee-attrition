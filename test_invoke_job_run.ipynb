{
 "cells": [
  {
   "cell_type": "markdown",
   "id": "9c20e0ef",
   "metadata": {},
   "source": [
    "# Test JOB RUN from HTTP\n",
    "\n",
    "Test the run of a job from HTTP REST call"
   ]
  },
  {
   "cell_type": "code",
   "execution_count": 2,
   "id": "2ec1fb4c",
   "metadata": {},
   "outputs": [],
   "source": [
    "import requests\n",
    "import oci\n",
    "from oci.signer import Signer"
   ]
  },
  {
   "cell_type": "code",
   "execution_count": 11,
   "id": "f0b9eaba",
   "metadata": {},
   "outputs": [
    {
     "name": "stdout",
     "output_type": "stream",
     "text": [
      "{'id': 'ocid1.datasciencejobrun.oc1.eu-frankfurt-1.amaaaaaa7egirmqarggdv2qrewvttrnnjhqkindza7lobvvclqiu43hc3csq', 'timeAccepted': '2021-11-25T11:09:51.942Z', 'timeStarted': None, 'timeFinished': None, 'createdBy': 'ocid1.datasciencenotebooksession.oc1.eu-frankfurt-1.amaaaaaa7egirmqasl57atdlss4lxnyn3iri43mw23ppfankshsewlogscsq', 'projectId': 'ocid1.datascienceproject.oc1.eu-frankfurt-1.amaaaaaa7egirmqabu25wx2nsuzirbgrubwv5bevbvrmlh2aivtzusz3yaua', 'compartmentId': 'ocid1.compartment.oc1..aaaaaaaaoxmcrbf3x3kozxkehlontyvtb4vif64vedvkneqv3b6rozumpxzq', 'jobId': 'ocid1.datasciencejob.oc1.eu-frankfurt-1.amaaaaaa7egirmqamiy6274u5cmqcymrsm2yg6msog57uny6vsemgwtmbe3q', 'displayName': 'Test run 1', 'jobConfigurationOverrideDetails': {'jobType': 'DEFAULT', 'environmentVariables': None, 'commandLineArguments': None, 'maximumRuntimeInMinutes': None}, 'jobInfrastructureConfigurationDetails': {'jobInfrastructureType': 'STANDALONE', 'shapeName': 'VM.Standard2.2', 'subnetId': 'ocid1.subnet.oc1.eu-frankfurt-1.aaaaaaaa2nwzvnnmwssryz6d5foetwfqwfuwjkanexxq452fad536mtn3hqa', 'blockStorageSizeInGBs': 50}, 'jobLogConfigurationOverrideDetails': None, 'logDetails': {'logGroupId': 'ocid1.loggroup.oc1.eu-frankfurt-1.amaaaaaa7egirmqaiqwqog7cq22wqget6nkjhuajb5qhnfaaw35sdyr7fq3q', 'logId': None}, 'lifecycleState': 'ACCEPTED', 'lifecycleDetails': '', 'freeformTags': {}, 'definedTags': {'Oracle-Tags': {'CreatedBy': 'ocid1.datasciencenotebooksession.oc1.eu-frankfurt-1.amaaaaaa7egirmqasl57atdlss4lxnyn3iri43mw23ppfankshsewlogscsq', 'CreatedOn': '2021-11-25T11:09:51.693Z'}}}\n",
      "\n",
      "CPU times: user 762 ms, sys: 2.86 ms, total: 765 ms\n",
      "Wall time: 1.29 s\n"
     ]
    }
   ],
   "source": [
    "%%time\n",
    "endpoint = \"https://datascience.eu-frankfurt-1.oci.oraclecloud.com/20190101/jobRuns\"\n",
    "\n",
    "# again using RP\n",
    "rps = oci.auth.signers.get_resource_principals_signer()\n",
    "\n",
    "# payload goes here\n",
    "body = {\n",
    "    \"projectId\": \"ocid1.datascienceproject.oc1.eu-frankfurt-1.amaaaaaa7egirmqabu25wx2nsuzirbgrubwv5bevbvrmlh2aivtzusz3yaua\",\n",
    "    \"compartmentId\": \"ocid1.compartment.oc1..aaaaaaaaoxmcrbf3x3kozxkehlontyvtb4vif64vedvkneqv3b6rozumpxzq\",\n",
    "    \"jobId\": \"ocid1.datasciencejob.oc1.eu-frankfurt-1.amaaaaaa7egirmqamiy6274u5cmqcymrsm2yg6msog57uny6vsemgwtmbe3q\",\n",
    "    \"definedTags\": {},\n",
    "    \"displayName\": \"Test run 1\",\n",
    "    \"freeformTags\": {},\n",
    "    \"jobConfigurationOverrideDetails\": {\n",
    "        \"jobType\": \"DEFAULT\"\n",
    "    }\n",
    "}\n",
    "\n",
    "print(requests.post(endpoint, json=body, auth=rps).json())\n",
    "\n",
    "print()"
   ]
  },
  {
   "cell_type": "code",
   "execution_count": null,
   "id": "39859013",
   "metadata": {},
   "outputs": [],
   "source": []
  }
 ],
 "metadata": {
  "kernelspec": {
   "display_name": "Python [conda env:tensorflow27_p37_cpu_v1]",
   "language": "python",
   "name": "conda-env-tensorflow27_p37_cpu_v1-py"
  },
  "language_info": {
   "codemirror_mode": {
    "name": "ipython",
    "version": 3
   },
   "file_extension": ".py",
   "mimetype": "text/x-python",
   "name": "python",
   "nbconvert_exporter": "python",
   "pygments_lexer": "ipython3",
   "version": "3.7.12"
  }
 },
 "nbformat": 4,
 "nbformat_minor": 5
}
